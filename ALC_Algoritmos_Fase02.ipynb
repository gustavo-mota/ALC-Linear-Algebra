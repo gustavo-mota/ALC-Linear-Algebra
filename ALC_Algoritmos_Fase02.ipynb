{
  "nbformat": 4,
  "nbformat_minor": 0,
  "metadata": {
    "colab": {
      "provenance": [],
      "authorship_tag": "ABX9TyNv/WnWmfacGKsUAfa28BZi",
      "include_colab_link": true
    },
    "kernelspec": {
      "name": "python3",
      "display_name": "Python 3"
    },
    "language_info": {
      "name": "python"
    }
  },
  "cells": [
    {
      "cell_type": "markdown",
      "metadata": {
        "id": "view-in-github",
        "colab_type": "text"
      },
      "source": [
        "<a href=\"https://colab.research.google.com/github/gustavo-mota/ALC-Linear-Algebra/blob/main/ALC_Algoritmos_Fase02.ipynb\" target=\"_parent\"><img src=\"https://colab.research.google.com/assets/colab-badge.svg\" alt=\"Open In Colab\"/></a>"
      ]
    },
    {
      "cell_type": "markdown",
      "source": [
        "<div style=\"text-align: center\">\n",
        "<h1>Curso de Algebra Linear</h1>\n",
        "<h3>CKP8122</h3>\n",
        "<h1>Programa de Mestrado e Doutorado em Ciência da Computação - MDCC</h1>\n",
        "<h3>Universidade Federal do Ceará</h3>\n",
        "<h2>Gustavo Mota</h2>\n",
        "<h3>2022.2</h3>\n",
        "</div>\n"
      ],
      "metadata": {
        "id": "kdXUtYBQ13pO"
      }
    },
    {
      "cell_type": "code",
      "source": [
        "import numpy as np\n",
        "import cmath\n",
        "from operator import itemgetter\n",
        "from scipy import linalg as scp\n",
        "from scipy.sparse.linalg import cg\n",
        "from scipy.sparse.linalg import eigs, eigsh\n",
        "from scipy.linalg import svd as sp_svd\n",
        "#from math import sqrt"
      ],
      "metadata": {
        "id": "imO2tk_P2E_J"
      },
      "execution_count": null,
      "outputs": []
    },
    {
      "cell_type": "code",
      "source": [
        "sample_creto = np.array([\n",
        "    [6, -12, -5, 16, -2],\n",
        "    [-3, 6, 3, -9, 5],\n",
        "    [-4, 8, 3, -10, 1]\n",
        "])\n",
        "\n",
        "sample_cretoB = np.array([-53, 29, 33])"
      ],
      "metadata": {
        "id": "ITONnE7A2DI7"
      },
      "execution_count": null,
      "outputs": []
    },
    {
      "cell_type": "markdown",
      "source": [
        "Autovalores e Autovetores"
      ],
      "metadata": {
        "id": "Glg__pNpI2ct"
      }
    },
    {
      "cell_type": "code",
      "source": [
        "def potReg(A, x0, eps): # full simplificada\n",
        "  x0 = np.ones(A.shape[0])\n",
        "  x_ = x0/np.linalg.norm(x0)\n",
        "  lbd_a = 0 #np.dot(x_.T, x)\n",
        "  parar = False\n",
        "\n",
        "  while(not parar):\n",
        "    #x = np.matmul(A, x_) # na primeira iteração, já tenho o x_ do chute inicial\n",
        "    x = A @ x_\n",
        "    # lbd = np.dot(np.squeeze(x_), np.squeeze(x))\n",
        "    lbd = x_ @ x\n",
        "    if( abs( (lbd - lbd_a) /lbd )<eps ):\n",
        "      parar = True\n",
        "      x_ = x/np.linalg.norm(x)\n",
        "    else:\n",
        "      lbd_a = lbd\n",
        "      x_ = x/np.linalg.norm(x)\n",
        "  \n",
        "  return (lbd, x_)"
      ],
      "metadata": {
        "id": "VtCUGQba__t1"
      },
      "execution_count": null,
      "outputs": []
    },
    {
      "cell_type": "code",
      "source": [
        "def potReg4SVD(A, eps, x=None, max_it=100):\n",
        "  n, m = A.shape\n",
        "  x = np.ones(min(n, m)) if x is None else x.copy()\n",
        "  parada = False\n",
        "  egv = 0\n",
        "  egv_ = egv\n",
        "\n",
        "  b = A.T @ A if n > m else A @ A.T\n",
        "\n",
        "  while(not parada):\n",
        "      x_ = x / np.linalg.norm(x)\n",
        "      x = b @ x_\n",
        "      v = A @ x_ if n > m else A.T @ x_\n",
        "      egv = np.linalg.norm(v)\n",
        "\n",
        "      if abs((egv - egv_) / egv) < eps:\n",
        "          parada = True\n",
        "          break\n",
        "\n",
        "      egv_ = egv\n",
        "\n",
        "  x_ = x / np.linalg.norm(x)\n",
        "\n",
        "  return (x_, egv)"
      ],
      "metadata": {
        "id": "W_XFJ5H43x3w"
      },
      "execution_count": null,
      "outputs": []
    },
    {
      "cell_type": "code",
      "source": [
        "def potInv_v1(A, x0, eps):\n",
        "  x0 = np.ones(A.shape[0])\n",
        "  A_inv = np.linalg.pinv(A)\n",
        "  lbd, x_ = potReg(A_inv, x0, eps)\n",
        "  return (1/lbd, x_)"
      ],
      "metadata": {
        "id": "eWbujXx1tWkh"
      },
      "execution_count": null,
      "outputs": []
    },
    {
      "cell_type": "code",
      "source": [
        "def potInv_v2(A, x0, eps):\n",
        "  x0 = np.ones(A.shape[0])\n",
        "  x_ = x0/np.linalg.norm(x0)\n",
        "  lbd_a = 0\n",
        "  parada = False\n",
        "  while(not parada):\n",
        "    x = scp.solve(A, x_) # usar LU\n",
        "    #lbd = np.dot(np.squeeze(x_), np.squeeze(x))\n",
        "    lbd = x_ @ x\n",
        "    if(abs((lbd - lbd_a)/lbd)<eps):\n",
        "      parada = True\n",
        "      x_ = x/np.linalg.norm(x, 2)\n",
        "      print(\"parada inv2: \", x_)\n",
        "    else:\n",
        "      lbd_a = lbd\n",
        "      x_ = x/np.linalg.norm(x, 2)\n",
        "  # lbd = x_ @ x\n",
        "  return (1/lbd, x_)"
      ],
      "metadata": {
        "id": "1PAtFYjMtbzh"
      },
      "execution_count": null,
      "outputs": []
    },
    {
      "cell_type": "code",
      "source": [
        "def potShift(A, mi, x0, eps):\n",
        "  A_ = A - mi*np.identity(A.shape[0])\n",
        "  # parada = False\n",
        "  lbd_, phi = potInv_v2(A_, x0, eps)\n",
        "  lbd = lbd_ + mi\n",
        "\n",
        "  '''while(not parada):\n",
        "    lbd_, phi = potInv(A_, x0, eps)\n",
        "    lbd = lbd_ + mi\n",
        "    if(abs((lbd - lbd_a)/lbd)<eps):\n",
        "      parada = True'''\n",
        "  \n",
        "  return lbd, phi"
      ],
      "metadata": {
        "id": "r2IwkaHTuEqx"
      },
      "execution_count": null,
      "outputs": []
    },
    {
      "cell_type": "code",
      "source": [
        "sample_mat = np.array([ # padrão\n",
        "    [4, 1, -2, 2],\n",
        "    [1, 2, 0, 1],\n",
        "    [-2, 0, 3, -2],\n",
        "    [2, 1, -2, -1]\n",
        "])\n",
        "\n",
        "def matrizHouseholder(A_, idx, dim):\n",
        "  # dim = n, j = idx\n",
        "  # retorna Hj\n",
        "  #N, v, v_ = np.zeros(dim)\n",
        "  N, v, v_ = np.zeros((dim, 1)), np.zeros((dim, 1)), np.zeros((dim, 1)) # !\n",
        "  print(\"matrizHouseholder\", A_[:, idx], v)\n",
        "  #v[idx+1:dim] = A_[:, idx]\n",
        "  v[idx+1 : dim, 0] = A_[idx+1:dim, idx] # !\n",
        "  print(\"v: \", v)\n",
        "  L = np.linalg.norm(v, 2) # comprimento ou norma euclidiana\n",
        "  v_[idx+1] = L\n",
        "  print(\"L, v_: \", L, v_)\n",
        "  N = v - v_\n",
        "  n = N/np.linalg.norm(N)\n",
        "  #h_ = np.identity(dim) - 2*(np.dot(np.squeeze(n), np.squeeze(n.T)))\n",
        "  h_ = np.identity(dim) - 2*n@n.T # !\n",
        "  return h_\n",
        "\n",
        "def householder(A, dim):\n",
        "  A_ = np.copy(A)\n",
        "  H = np.identity(A.shape[0]) # EYE\n",
        "  for idx in range(0, dim-2): # teste colocando 1 dado q inicia do 0\n",
        "    h_ = matrizHouseholder(A_, idx, dim)\n",
        "    #A_ = np.matmul(np.matmul(h_, A_), h_) # experimente alternar a ordem de prioridade das multiplicações \n",
        "    A_ = h_ @ A_ @ h_\n",
        "    #H = np.matmul(H, h_)\n",
        "    H = H @ h_\n",
        "  return (A_, H) \n",
        "\n",
        "A_, H = householder(sample_mat, 4)\n",
        "print(np.around(A_, 5))\n",
        "#sample_mat.shape"
      ],
      "metadata": {
        "colab": {
          "base_uri": "https://localhost:8080/"
        },
        "id": "YoU_MRlDNRsL",
        "outputId": "ca366668-17b1-40c0-e2f5-df008bba3a48"
      },
      "execution_count": null,
      "outputs": [
        {
          "output_type": "stream",
          "name": "stdout",
          "text": [
            "matrizHouseholder [ 4  1 -2  2] [[0.]\n",
            " [0.]\n",
            " [0.]\n",
            " [0.]]\n",
            "v:  [[ 0.]\n",
            " [ 1.]\n",
            " [-2.]\n",
            " [ 2.]]\n",
            "L, v_:  3.0 [[0.]\n",
            " [3.]\n",
            " [0.]\n",
            " [0.]]\n",
            "matrizHouseholder [ 3.          3.33333333 -1.33333333 -1.        ] [[0.]\n",
            " [0.]\n",
            " [0.]\n",
            " [0.]]\n",
            "v:  [[ 0.        ]\n",
            " [ 0.        ]\n",
            " [-1.33333333]\n",
            " [-1.        ]]\n",
            "L, v_:  1.6666666666666672 [[0.        ]\n",
            " [0.        ]\n",
            " [1.66666667]\n",
            " [0.        ]]\n",
            "[[ 4.       3.      -0.      -0.     ]\n",
            " [ 3.       3.33333  1.66667 -0.     ]\n",
            " [-0.       1.66667 -1.32    -0.90667]\n",
            " [-0.       0.      -0.90667  1.98667]]\n"
          ]
        }
      ]
    },
    {
      "cell_type": "code",
      "source": [
        "sample_mqr = np.array([\n",
        "    [12, -51, 4],\n",
        "    [6, 167, -68],\n",
        "    [-4, 24, -41]\n",
        "])\n",
        "\n",
        "def matHHmod(A_, idx, dim):\n",
        "  v, v_ = np.zeros((dim, 1)), np.zeros((dim, 1))\n",
        "  v[idx:dim, 0] = A_[idx:dim, idx]\n",
        "  L = np.linalg.norm(v, 2) # norma euclidiana ou comprimento\n",
        "  v_[idx] = L\n",
        "  N = v - v_\n",
        "  n = N/np.linalg.norm(N, 2)\n",
        "  return np.identity(dim) - 2 * n @ n.T #np.identity(dim) - 2*(np.dot(np.squeeze(n), np.squeeze(n.T)))\n",
        "\n",
        "def decompoQR(A, dim):\n",
        "  A_ = np.copy(A)\n",
        "  Q = np.identity(dim)\n",
        "  for idx in range(0, dim-1):\n",
        "    h_ = matHHmod(A_, idx, dim)\n",
        "    A_ = np.matmul(h_, A_)\n",
        "    Q = np.matmul(Q, h_)\n",
        "  #print(Q)\n",
        "  return (Q, A_)\n",
        "\n",
        "def checker(D, dim):\n",
        "  vecto = np.array([0])\n",
        "  for idx in range(dim):\n",
        "    #print(\"checker D[idx:, idx]\", D[idx+1:dim, idx])\n",
        "    vecto = np.concatenate((vecto, D[idx+1:dim, idx]))\n",
        "    \n",
        "  L = np.linalg.norm(vecto, 2)\n",
        "  #print(\"checker L: \", L)\n",
        "  return L\n",
        "\n",
        "def metodoQR(T, H, dim, eps): # versão simétrica\n",
        "  parada = False\n",
        "  D = np.copy(T)\n",
        "  # p = np.copy(H)\n",
        "  p = np.eye(H.shape[0])\n",
        "  while(not parada):\n",
        "    Q, R = decompoQR(D, dim)\n",
        "    D = np.matmul(R, Q)\n",
        "    L = checker(D, dim) # pega os elementos abaixo da diagonal principal, ao quadrado e dps tira a raiz\n",
        "    p = p @ Q\n",
        "    if(L < eps):\n",
        "      parada = True\n",
        "  return D, p\n",
        "\n",
        "def metodoQR4notSim(T, H, dim, eps): # versão não-simétrica\n",
        "  parada = False\n",
        "  D = np.copy(T)\n",
        "  p = np.copy(H)\n",
        "  old_L = 0.0 # np.zeros((dim, 1))\n",
        "  while(not parada):\n",
        "    Q, R = decompoQR(D, dim)\n",
        "    D = np.matmul(R, Q)\n",
        "    L = checker(D, dim) # pega os elementos abaixo da diagonal principal, ao quadrado e dps tira a raiz\n",
        "    p = p @ Q\n",
        "    if(abs(L - old_L) < eps):\n",
        "      parada = True\n",
        "    else:\n",
        "      old_L = np.copy(L)\n",
        "  return D, p\n",
        "\n",
        "D, p = metodoQR(sample_mat, A_, 4, 0.001)\n",
        "print(D)\n",
        "lbd_reg, _ = potReg(sample_mat, [1], 0.0001)\n",
        "lbd_inv1, _ = potInv_v1(sample_mat, [1], 0.0001)\n",
        "lbd_inv2, _ = potInv_v2(sample_mat, [1], 0.0001)\n",
        "lbd_shifted, _ = potShift(sample_mat, 5, [1], 0.0001)\n",
        "print(lbd_reg, lbd_inv1, lbd_inv2, lbd_shifted)"
      ],
      "metadata": {
        "colab": {
          "base_uri": "https://localhost:8080/"
        },
        "id": "E25Qp0zKSoAR",
        "outputId": "19f567e9-f222-441b-ff6d-dbed7fba6c98"
      },
      "execution_count": null,
      "outputs": [
        {
          "output_type": "stream",
          "name": "stdout",
          "text": [
            "[[ 6.84462111e+00 -1.00704982e-07  4.83989656e-08  8.17392064e-12]\n",
            " [-1.00704982e-07  2.26853119e+00  9.85503531e-04 -4.90171395e-16]\n",
            " [ 4.83989651e-08  9.85503531e-04 -2.19751676e+00  9.72250581e-16]\n",
            " [ 8.17356173e-12 -3.67002061e-20 -1.68404312e-20  1.08436446e+00]]\n",
            "parada inv2:  [ 0.64240327 -0.54282273  0.52186827 -0.14253081]\n",
            "parada inv2:  [ 0.71885438  0.22432631 -0.55501212  0.35339444]\n",
            "6.844569183337946 1.0843910506767145 1.0843910506767143 6.844730865009231\n"
          ]
        }
      ]
    },
    {
      "cell_type": "code",
      "source": [
        "# q, r = np.linalg.qr(sample_mat, mode='reduced')\n",
        "np.linalg.eigvals(sample_mat)"
      ],
      "metadata": {
        "id": "GuD9_XX5oVWY",
        "colab": {
          "base_uri": "https://localhost:8080/"
        },
        "outputId": "dc139e65-e8c9-400b-c4d2-940244944f24"
      },
      "execution_count": null,
      "outputs": [
        {
          "output_type": "execute_result",
          "data": {
            "text/plain": [
              "array([ 6.84462111, -2.19751698,  1.08436446,  2.26853141])"
            ]
          },
          "metadata": {},
          "execution_count": 14
        }
      ]
    },
    {
      "cell_type": "code",
      "source": [
        "# autovalor e autovetor\n",
        "eigsh(sample_mat.astype(np.float), k=1, sigma=lbd_reg.astype(np.float))"
      ],
      "metadata": {
        "colab": {
          "base_uri": "https://localhost:8080/"
        },
        "id": "swgunjsC-ki7",
        "outputId": "f4a44638-c918-4ac0-9773-448d8c0c6f1b"
      },
      "execution_count": null,
      "outputs": [
        {
          "output_type": "stream",
          "name": "stderr",
          "text": [
            "<ipython-input-15-2b7e37406a45>:2: DeprecationWarning: `np.float` is a deprecated alias for the builtin `float`. To silence this warning, use `float` by itself. Doing this will not modify any behavior and is safe. If you specifically wanted the numpy scalar type, use `np.float64` here.\n",
            "Deprecated in NumPy 1.20; for more details and guidance: https://numpy.org/devdocs/release/1.20.0-notes.html#deprecations\n",
            "  eigsh(sample_mat.astype(np.float), k=1, sigma=lbd_reg.astype(np.float))\n"
          ]
        },
        {
          "output_type": "execute_result",
          "data": {
            "text/plain": [
              "(array([6.84462111]), array([[-0.71804596],\n",
              "        [-0.22115299],\n",
              "        [ 0.55735138],\n",
              "        [-0.35335647]]))"
            ]
          },
          "metadata": {},
          "execution_count": 15
        }
      ]
    },
    {
      "cell_type": "code",
      "source": [
        "p"
      ],
      "metadata": {
        "colab": {
          "base_uri": "https://localhost:8080/"
        },
        "id": "h4uZ357I-gJa",
        "outputId": "c6b505eb-be9c-4dad-d44a-a8db59de3ffb"
      },
      "execution_count": null,
      "outputs": [
        {
          "output_type": "execute_result",
          "data": {
            "text/plain": [
              "array([[ 0.71804596,  0.20167208,  0.17674968, -0.64226001],\n",
              "       [ 0.221153  ,  0.78941059,  0.17827467,  0.54418785],\n",
              "       [-0.55735136,  0.57969765, -0.28754012, -0.52022185],\n",
              "       [ 0.35335648,  0.01048495, -0.92428262,  0.14398227]])"
            ]
          },
          "metadata": {},
          "execution_count": 16
        }
      ]
    },
    {
      "cell_type": "code",
      "source": [
        "'''\n",
        "  [ 3 20 66]\n",
        "  [ 7 78 56]\n",
        "  [98 64 54]\n",
        "'''\n",
        "\n",
        "random_mat = np.random.rand(8,8) * 100\n",
        "random_mat = random_mat.astype(np.int)\n",
        "print(random_mat)"
      ],
      "metadata": {
        "colab": {
          "base_uri": "https://localhost:8080/"
        },
        "id": "sQu6iomRLjfk",
        "outputId": "5fd0c2d5-4f76-4c89-e529-f2c7a309eed0"
      },
      "execution_count": null,
      "outputs": [
        {
          "output_type": "stream",
          "name": "stdout",
          "text": [
            "[[32 36 35 79 84 92 56 35]\n",
            " [82  8 86 32 43 13 82 28]\n",
            " [60 47 36 17  7 92 85 91]\n",
            " [26 94 69 51 53 57 50 30]\n",
            " [63 17 20 65 55 70 10 58]\n",
            " [68 66 64 76 20 47 78 77]\n",
            " [81 59  8 49 84 53 37 30]\n",
            " [94 76 33 10 41 49 51 53]]\n"
          ]
        },
        {
          "output_type": "stream",
          "name": "stderr",
          "text": [
            "<ipython-input-17-02def6a7b426>:8: DeprecationWarning: `np.int` is a deprecated alias for the builtin `int`. To silence this warning, use `int` by itself. Doing this will not modify any behavior and is safe. When replacing `np.int`, you may wish to use e.g. `np.int64` or `np.int32` to specify the precision. If you wish to review your current use, check the release note link for additional information.\n",
            "Deprecated in NumPy 1.20; for more details and guidance: https://numpy.org/devdocs/release/1.20.0-notes.html#deprecations\n",
            "  random_mat = random_mat.astype(np.int)\n"
          ]
        }
      ]
    },
    {
      "cell_type": "code",
      "source": [
        "random_mat = np.array([ # complexo\n",
        "    [31, 29,  2, 40, 26, 17, 24, 54],\n",
        "    [ 9, 76,  7,  2, 90,  4, 23, 13],\n",
        "    [50, 49, 51, 19, 68,  5, 76, 89],\n",
        "    [39, 85,  9, 72, 27, 72, 77, 57],\n",
        "    [86, 38, 67, 49, 64, 35, 23, 81],\n",
        "    [54, 71, 33, 97, 69, 82, 23, 18],\n",
        "    [35, 14,  5, 22, 54, 12, 49, 67],\n",
        "    [98, 32,  8, 82, 45, 75, 44,  5],\n",
        "])"
      ],
      "metadata": {
        "id": "z7NxL4EU-7ss"
      },
      "execution_count": null,
      "outputs": []
    },
    {
      "cell_type": "code",
      "source": [
        "np.linalg.eigvals(random_mat)"
      ],
      "metadata": {
        "colab": {
          "base_uri": "https://localhost:8080/"
        },
        "id": "C96nzigs_T7U",
        "outputId": "ebac9473-a8d5-4c2b-faa3-fba77236f08c"
      },
      "execution_count": null,
      "outputs": [
        {
          "output_type": "execute_result",
          "data": {
            "text/plain": [
              "array([349.62298599 +0.j        ,  64.21325105+51.69594545j,\n",
              "        64.21325105-51.69594545j, -55.68713131 +0.j        ,\n",
              "         1.88709293+45.35508172j,   1.88709293-45.35508172j,\n",
              "       -20.67967213 +0.j        ,  24.54312951 +0.j        ])"
            ]
          },
          "metadata": {},
          "execution_count": 19
        }
      ]
    },
    {
      "cell_type": "code",
      "source": [
        "A__, H_ = householder(random_mat, 8)\n",
        "print(np.around(A_, 5))"
      ],
      "metadata": {
        "colab": {
          "base_uri": "https://localhost:8080/"
        },
        "id": "I7ppGTugMs8-",
        "outputId": "33d933d2-9f15-4dd7-b030-b3ac01b26d63"
      },
      "execution_count": null,
      "outputs": [
        {
          "output_type": "stream",
          "name": "stdout",
          "text": [
            "matrizHouseholder [31  9 50 39 86 54 35 98] [[0.]\n",
            " [0.]\n",
            " [0.]\n",
            " [0.]\n",
            " [0.]\n",
            " [0.]\n",
            " [0.]\n",
            " [0.]]\n",
            "v:  [[ 0.]\n",
            " [ 9.]\n",
            " [50.]\n",
            " [39.]\n",
            " [86.]\n",
            " [54.]\n",
            " [35.]\n",
            " [98.]]\n",
            "L, v_:  158.88045820679145 [[  0.        ]\n",
            " [158.88045821]\n",
            " [  0.        ]\n",
            " [  0.        ]\n",
            " [  0.        ]\n",
            " [  0.        ]\n",
            " [  0.        ]\n",
            " [  0.        ]]\n",
            "matrizHouseholder [ 70.53730916 263.59561066  69.10498782  66.19440289  25.84070634\n",
            "  49.9131661   48.02480165 -39.39460583] [[0.]\n",
            " [0.]\n",
            " [0.]\n",
            " [0.]\n",
            " [0.]\n",
            " [0.]\n",
            " [0.]\n",
            " [0.]]\n",
            "v:  [[  0.        ]\n",
            " [  0.        ]\n",
            " [ 69.10498782]\n",
            " [ 66.19440289]\n",
            " [ 25.84070634]\n",
            " [ 49.9131661 ]\n",
            " [ 48.02480165]\n",
            " [-39.39460583]]\n",
            "L, v_:  127.17932658787039 [[  0.        ]\n",
            " [  0.        ]\n",
            " [127.17932659]\n",
            " [  0.        ]\n",
            " [  0.        ]\n",
            " [  0.        ]\n",
            " [  0.        ]\n",
            " [  0.        ]]\n",
            "matrizHouseholder [  7.07571019 116.02280785  23.98044212   9.62418171 -37.65187607\n",
            "  33.7762635  -58.60545403  45.12815906] [[0.]\n",
            " [0.]\n",
            " [0.]\n",
            " [0.]\n",
            " [0.]\n",
            " [0.]\n",
            " [0.]\n",
            " [0.]]\n",
            "v:  [[  0.        ]\n",
            " [  0.        ]\n",
            " [  0.        ]\n",
            " [  9.62418171]\n",
            " [-37.65187607]\n",
            " [ 33.7762635 ]\n",
            " [-58.60545403]\n",
            " [ 45.12815906]]\n",
            "L, v_:  90.12366283645382 [[ 0.        ]\n",
            " [ 0.        ]\n",
            " [ 0.        ]\n",
            " [90.12366284]\n",
            " [ 0.        ]\n",
            " [ 0.        ]\n",
            " [ 0.        ]\n",
            " [ 0.        ]]\n",
            "matrizHouseholder [ 18.84428179  36.07801783 -26.9767144   67.84681031 -12.67994966\n",
            " -39.76358967  -0.15368978 -24.1883097 ] [[0.]\n",
            " [0.]\n",
            " [0.]\n",
            " [0.]\n",
            " [0.]\n",
            " [0.]\n",
            " [0.]\n",
            " [0.]]\n",
            "v:  [[  0.        ]\n",
            " [  0.        ]\n",
            " [  0.        ]\n",
            " [  0.        ]\n",
            " [-12.67994966]\n",
            " [-39.76358967]\n",
            " [ -0.15368978]\n",
            " [-24.1883097 ]]\n",
            "L, v_:  48.23921779430824 [[ 0.        ]\n",
            " [ 0.        ]\n",
            " [ 0.        ]\n",
            " [ 0.        ]\n",
            " [48.23921779]\n",
            " [ 0.        ]\n",
            " [ 0.        ]\n",
            " [ 0.        ]]\n",
            "matrizHouseholder [ -0.87798473   5.86891057 -44.6488041   24.25242168  19.12236923\n",
            "  20.56085677  26.32669233  20.32719406] [[0.]\n",
            " [0.]\n",
            " [0.]\n",
            " [0.]\n",
            " [0.]\n",
            " [0.]\n",
            " [0.]\n",
            " [0.]]\n",
            "v:  [[ 0.        ]\n",
            " [ 0.        ]\n",
            " [ 0.        ]\n",
            " [ 0.        ]\n",
            " [ 0.        ]\n",
            " [20.56085677]\n",
            " [26.32669233]\n",
            " [20.32719406]]\n",
            "L, v_:  39.10292033761008 [[ 0.        ]\n",
            " [ 0.        ]\n",
            " [ 0.        ]\n",
            " [ 0.        ]\n",
            " [ 0.        ]\n",
            " [39.10292034]\n",
            " [ 0.        ]\n",
            " [ 0.        ]]\n",
            "matrizHouseholder [ 12.05353231   7.99412046   9.15451919 -27.12049906  38.2453374\n",
            "  11.00964723   4.75679229  61.75952955] [[0.]\n",
            " [0.]\n",
            " [0.]\n",
            " [0.]\n",
            " [0.]\n",
            " [0.]\n",
            " [0.]\n",
            " [0.]]\n",
            "v:  [[ 0.        ]\n",
            " [ 0.        ]\n",
            " [ 0.        ]\n",
            " [ 0.        ]\n",
            " [ 0.        ]\n",
            " [ 0.        ]\n",
            " [ 4.75679229]\n",
            " [61.75952955]]\n",
            "L, v_:  61.94244557282286 [[ 0.        ]\n",
            " [ 0.        ]\n",
            " [ 0.        ]\n",
            " [ 0.        ]\n",
            " [ 0.        ]\n",
            " [ 0.        ]\n",
            " [61.94244557]\n",
            " [ 0.        ]]\n",
            "[[ 4.       3.      -0.      -0.     ]\n",
            " [ 3.       3.33333  1.66667 -0.     ]\n",
            " [-0.       1.66667 -1.32    -0.90667]\n",
            " [-0.       0.      -0.90667  1.98667]]\n"
          ]
        }
      ]
    },
    {
      "cell_type": "code",
      "source": [
        "H_"
      ],
      "metadata": {
        "colab": {
          "base_uri": "https://localhost:8080/"
        },
        "id": "yljO8pP-QD80",
        "outputId": "e57019a8-1a68-4326-b63c-09eed5fe5a0f"
      },
      "execution_count": null,
      "outputs": [
        {
          "output_type": "execute_result",
          "data": {
            "text/plain": [
              "array([[ 1.        ,  0.        ,  0.        ,  0.        ,  0.        ,\n",
              "         0.        ,  0.        ,  0.        ],\n",
              "       [ 0.        ,  0.05664636,  0.43425245,  0.16712385, -0.64504017,\n",
              "        -0.07167782, -0.35184724, -0.48505114],\n",
              "       [ 0.        ,  0.31470201,  0.39850025, -0.33863171, -0.41065783,\n",
              "         0.09117721,  0.50257638,  0.44491865],\n",
              "       [ 0.        ,  0.24546757,  0.40748515,  0.38573382,  0.43307137,\n",
              "        -0.0551937 ,  0.51310032, -0.41357206],\n",
              "       [ 0.        ,  0.54128746, -0.04598675, -0.3878045 ,  0.17613747,\n",
              "        -0.68371345, -0.22111576, -0.08438071],\n",
              "       [ 0.        ,  0.33987817,  0.23600732,  0.55769066,  0.13401748,\n",
              "         0.03818995, -0.42236404,  0.56564473],\n",
              "       [ 0.        ,  0.22029141,  0.27620846, -0.45537671,  0.33874344,\n",
              "         0.63468017, -0.34400983, -0.17861645],\n",
              "       [ 0.        ,  0.61681595, -0.59369425,  0.19957069, -0.25298283,\n",
              "         0.33430702,  0.12133521, -0.19171082]])"
            ]
          },
          "metadata": {},
          "execution_count": 21
        }
      ]
    },
    {
      "cell_type": "code",
      "source": [
        "D, p = metodoQR4notSim(random_mat, A__, 8, 0.1)\n",
        "print(D)"
      ],
      "metadata": {
        "colab": {
          "base_uri": "https://localhost:8080/"
        },
        "id": "l1KFWgXDMXT1",
        "outputId": "d61e4acf-8bc7-4f07-ba00-878228275f31"
      },
      "execution_count": null,
      "outputs": [
        {
          "output_type": "stream",
          "name": "stdout",
          "text": [
            "[[ 3.49622986e+02 -5.85335192e+00  9.81554859e+00  3.67616115e+01\n",
            "   9.69423575e+00 -9.12219896e+01 -7.98399128e+01  7.89835445e-01]\n",
            " [ 5.73310053e-07  6.58725185e+01  4.20544541e+01 -1.34202448e+01\n",
            "  -2.60511903e+01 -2.81845491e+00 -2.26418706e+00  3.17795338e+01]\n",
            " [ 5.38665465e-06 -6.36131892e+01  6.25540591e+01  7.21392699e+01\n",
            "  -5.56742796e+00  6.62383913e+00  4.09755706e+01  2.37211414e+01]\n",
            " [-9.13262794e-09 -1.11927403e-04 -2.27657880e-04 -5.56847932e+01\n",
            "  -2.46113513e+01 -3.29558006e+01  9.94322236e+00 -2.37862529e+01]\n",
            " [ 1.13955669e-09 -4.30619419e-07 -7.62031485e-08 -5.84611311e-03\n",
            "  -9.97275545e+00  5.99651050e+01 -2.26932632e+01  8.59101899e+00]\n",
            " [-1.22440542e-09  3.28170904e-07  3.14406211e-07  1.32883955e-01\n",
            "  -3.65768802e+01  1.37445280e+01  1.30248180e+01  3.56872976e+01]\n",
            " [ 1.89276382e-12 -9.59390418e-16  3.82248853e-17 -1.27835919e-10\n",
            "   1.13714299e-07  1.55304174e-08  2.45456545e+01 -4.34408215e+00]\n",
            " [-1.01297920e-13  6.69029929e-18 -5.02504941e-18  3.67681212e-13\n",
            "  -5.35540006e-11 -1.53322158e-10  2.62871408e-02 -2.06821971e+01]]\n"
          ]
        }
      ]
    },
    {
      "cell_type": "code",
      "source": [
        "D_ = np.around(D, 5)\n",
        "D_.astype(np.int64)"
      ],
      "metadata": {
        "colab": {
          "base_uri": "https://localhost:8080/"
        },
        "id": "QpFvThVFSk7q",
        "outputId": "c772c39e-a5c0-4aa1-d3ee-a5628fcf2a72"
      },
      "execution_count": null,
      "outputs": [
        {
          "output_type": "execute_result",
          "data": {
            "text/plain": [
              "array([[349,  -5,   9,  36,   9, -91, -79,   0],\n",
              "       [  0,  65,  42, -13, -26,  -2,  -2,  31],\n",
              "       [  0, -63,  62,  72,  -5,   6,  40,  23],\n",
              "       [  0,   0,   0, -55, -24, -32,   9, -23],\n",
              "       [  0,   0,   0,   0,  -9,  59, -22,   8],\n",
              "       [  0,   0,   0,   0, -36,  13,  13,  35],\n",
              "       [  0,   0,   0,   0,   0,   0,  24,  -4],\n",
              "       [  0,   0,   0,   0,   0,   0,   0, -20]])"
            ]
          },
          "metadata": {},
          "execution_count": 23
        }
      ]
    },
    {
      "cell_type": "code",
      "source": [
        "print(\"eigenvalues by numpy: \", np.linalg.eigvals(random_mat))\n",
        "# print(\"eigenvalues by QR: \", D.diagonal())"
      ],
      "metadata": {
        "colab": {
          "base_uri": "https://localhost:8080/"
        },
        "id": "v-CYvsCfOk6v",
        "outputId": "e524a66d-658c-495f-9ac9-77b89baa62a9"
      },
      "execution_count": null,
      "outputs": [
        {
          "output_type": "stream",
          "name": "stdout",
          "text": [
            "eigenvalues by numpy:  [349.62298599 +0.j          64.21325105+51.69594545j\n",
            "  64.21325105-51.69594545j -55.68713131 +0.j\n",
            "   1.88709293+45.35508172j   1.88709293-45.35508172j\n",
            " -20.67967213 +0.j          24.54312951 +0.j        ]\n"
          ]
        }
      ]
    },
    {
      "cell_type": "code",
      "source": [
        "def unblock(d):\n",
        "    bts = []\n",
        "    idx = 0\n",
        "    while idx <= d.shape[0]-1:\n",
        "        if idx == d.shape[0]-1 or np.isclose(d[idx+1, idx], 0):\n",
        "            bts.append(d[idx, idx])\n",
        "            idx += 1\n",
        "            continue\n",
        "\n",
        "        bts.append(np.array([\n",
        "            [d[idx, idx], d[idx, idx+1]],\n",
        "            [d[idx+1, idx], d[idx+1, idx + 1]]\n",
        "        ]))\n",
        "        idx += 2\n",
        "    return bts\n",
        "\n",
        "ubk = unblock(D_)\n",
        "\n",
        "def solve_block(block):\n",
        "  a = 1\n",
        "  b = block[0,0] + block[1, 1]\n",
        "  c = block[0, 0]*block[1, 1] - block[0,1]*block[1, 0]\n",
        "  delta = (b**2) - (4*a*c)\n",
        "\n",
        "  s1 = (-b-cmath.sqrt(delta))/(2*a)\n",
        "  s2 = (-b+cmath.sqrt(delta))/(2*a)\n",
        "\n",
        "  return s1, s2\n",
        "\n",
        "def eigenvalues4notSim(blocked):\n",
        "  eigenvalues = []\n",
        "  for block in blocked:\n",
        "    #if type(block) != np.int64:\n",
        "    if not isinstance(block, float):\n",
        "      eigenvalues.append(solve_block(block))\n",
        "      continue\n",
        "    eigenvalues.append(block)\n",
        "  return eigenvalues\n",
        "\n",
        "eigenvalues4notSim(ubk)"
      ],
      "metadata": {
        "colab": {
          "base_uri": "https://localhost:8080/"
        },
        "id": "lwc7fz_QSF8P",
        "outputId": "5b245127-1ea1-4a24-b2b6-842045e2a1c7"
      },
      "execution_count": null,
      "outputs": [
        {
          "output_type": "execute_result",
          "data": {
            "text/plain": [
              "[349.62299,\n",
              " ((-64.21329-51.69588643211953j), (-64.21329+51.69588643211953j)),\n",
              " ((9.969610577875446+0j), (55.68793942212456+0j)),\n",
              " 13.74453,\n",
              " ((-24.543124736469764+0j), (20.679674736469764+0j))]"
            ]
          },
          "metadata": {},
          "execution_count": 25
        }
      ]
    },
    {
      "cell_type": "code",
      "source": [
        "for blk in ubk:\n",
        "  print(type(blk)==np.int64)"
      ],
      "metadata": {
        "colab": {
          "base_uri": "https://localhost:8080/"
        },
        "id": "8kd4gnvycf01",
        "outputId": "a63fc9f1-f5fc-4390-eff2-5a62d2070caa"
      },
      "execution_count": null,
      "outputs": [
        {
          "output_type": "stream",
          "name": "stdout",
          "text": [
            "False\n",
            "False\n",
            "False\n",
            "False\n",
            "False\n"
          ]
        }
      ]
    },
    {
      "cell_type": "code",
      "source": [
        "def checkerSimetria(matriz):\n",
        "  b = matriz @ matriz.T\n",
        "  if(np.allclose(matriz, b)):\n",
        "    return 1\n",
        "  return 0\n",
        "\n",
        "def solver_eigenVV(matriz, dim, eps_QR=0.001, eps_QR2 = 0.1, shift_chute=5,\n",
        "                   eps_potReg=0.0001, eps_potInv1=0.0001, eps_potInv2=0.0001, eps_potShift=0.0001\n",
        "                   ):\n",
        "  IsSim = checkerSimetria(matriz)\n",
        "\n",
        "  A, H = householder(matriz, dim)\n",
        "  print(\"Matriz de householder calculada! \", H)\n",
        "  if(True):\n",
        "    print(\"A matriz é simétrica!\")\n",
        "    D, p = metodoQR(matriz, A, dim, eps_QR)\n",
        "    print(\"Decomposição QR calculada!\")\n",
        "    print(\"Matriz D: \", D)\n",
        "    print(\"Matriz p:\", p)\n",
        "    eigenvalues = D_.diagonal()\n",
        "  else:\n",
        "    print('Matriz não simétrica!')\n",
        "    D, p = metodoQR4notSim(matriz, A, dim, eps_QR2) # use 0.1\n",
        "    print(\"Decomposição QR calculada!\")\n",
        "    print(\"Matriz D: \", D)\n",
        "    print(\"Matriz p:\", p)\n",
        "    ubk = unblock(D_)\n",
        "    print(\"Blocos encontrados! \", ubk)\n",
        "    eigenvalues = eigenvalues4notSim(ubk)\n",
        "\n",
        "  print(\"Eigenvalues obtidos: \", eigenvalues)\n",
        "  print(\"Eigenvalues via numpy:\",  np.linalg.eigvals(matriz).astype(np.int64))\n",
        "  \n",
        "  print(\"Testes via métodos de potência!\")\n",
        "\n",
        "  lbd_reg, _ = potReg(matriz, [1], eps_potReg)\n",
        "  lbd_inv1, _ = potInv_v1(matriz, [1], eps_potInv1)\n",
        "  lbd_inv2, _ = potInv_v2(matriz, [1], eps_potInv2)\n",
        "  lbd_shifted, _ = potShift(matriz, shift_chute, [1], eps_potShift)\n",
        "  print(\n",
        "      \"pot regular: \", lbd_reg, \n",
        "      \"pot inversa 1: \", lbd_inv1, \n",
        "      \"pot inversa 2: \", lbd_inv2, \n",
        "      \"pot shifted: \", lbd_shifted\n",
        "      )\n",
        "  return {\n",
        "      \"sim\": IsSim,\n",
        "      \"A\": A,\n",
        "      \"HH\": H,\n",
        "      \"Q\": D,\n",
        "      \"R\": p,\n",
        "      # \"blocks\": ubk,\n",
        "      \"eVal\": eigenvalues,\n",
        "      \"eVec\": [],\n",
        "      \"pReg\": lbd_reg, \n",
        "      \"pInv1\": lbd_inv1, \n",
        "      \"pInv2\": lbd_inv2, \n",
        "      \"pShift\": lbd_shifted\n",
        "  }\n",
        "# ouput = solver_eigenVV(random_mat, 8)"
      ],
      "metadata": {
        "id": "aOkcUBKmdqmw"
      },
      "execution_count": null,
      "outputs": []
    },
    {
      "cell_type": "code",
      "source": [
        "eig01 = ouput['eVal'][0]\n",
        "eigsh(random_mat.astype(np.float), k=1, sigma=eig01.astype(np.float))"
      ],
      "metadata": {
        "colab": {
          "base_uri": "https://localhost:8080/"
        },
        "id": "9khQJFhAkCLn",
        "outputId": "8878c607-0f8e-47ff-e1ea-627c875c59a2"
      },
      "execution_count": null,
      "outputs": [
        {
          "output_type": "stream",
          "name": "stderr",
          "text": [
            "<ipython-input-28-71074d7bdcb0>:2: DeprecationWarning: `np.float` is a deprecated alias for the builtin `float`. To silence this warning, use `float` by itself. Doing this will not modify any behavior and is safe. If you specifically wanted the numpy scalar type, use `np.float64` here.\n",
            "Deprecated in NumPy 1.20; for more details and guidance: https://numpy.org/devdocs/release/1.20.0-notes.html#deprecations\n",
            "  eigsh(random_mat.astype(np.float), k=1, sigma=eig01.astype(np.float))\n"
          ]
        },
        {
          "output_type": "execute_result",
          "data": {
            "text/plain": [
              "(array([349.62298587]), array([[-0.216277  ],\n",
              "        [-0.22867636],\n",
              "        [-0.34750042],\n",
              "        [-0.43718863],\n",
              "        [-0.43187483],\n",
              "        [-0.48127187],\n",
              "        [-0.22783908],\n",
              "        [-0.34495188]]))"
            ]
          },
          "metadata": {},
          "execution_count": 28
        }
      ]
    },
    {
      "cell_type": "code",
      "source": [
        "output_creto = solver_eigenVV(prod_sample_creto, 3)\n",
        "#prod_sample_creto.shape\n",
        "#np.allclose(prod_sample_creto, prod_sample_creto @ prod_sample_creto.T)"
      ],
      "metadata": {
        "colab": {
          "base_uri": "https://localhost:8080/"
        },
        "id": "fP_27FB2GDKc",
        "outputId": "cca7753e-7d3c-43e1-89f7-bdc1f2946952"
      },
      "execution_count": null,
      "outputs": [
        {
          "output_type": "stream",
          "name": "stdout",
          "text": [
            "matrizHouseholder [ 465. -251. -297.] [[0.]\n",
            " [0.]\n",
            " [0.]]\n",
            "v:  [[   0.]\n",
            " [-251.]\n",
            " [-297.]]\n",
            "L, v_:  388.85730030436616 [[  0.       ]\n",
            " [388.8573003]\n",
            " [  0.       ]]\n",
            "Matriz de householder calculada!  [[ 1.          0.          0.        ]\n",
            " [ 0.         -0.645481   -0.76377633]\n",
            " [ 0.         -0.76377633  0.645481  ]]\n",
            "A matriz é simétrica!\n",
            "Decomposição QR calculada!\n",
            "Matriz D:  [[ 7.90215445e+02 -6.35146674e-08 -2.19896641e-09]\n",
            " [-6.35145801e-08  7.40097624e-01 -1.48323570e-04]\n",
            " [-2.19903331e-09 -1.48323570e-04  4.44568937e-02]]\n",
            "Matriz p: [[ 0.76708722  0.03644728  0.64050667]\n",
            " [-0.41413548  0.79063298  0.45098923]\n",
            " [-0.48996837 -0.61120462  0.62157857]]\n",
            "Eigenvalues obtidos:  [349.62299  65.87252  62.55406 -55.68479  -9.97276  13.74453  24.54565\n",
            " -20.6822 ]\n",
            "Eigenvalues via numpy: [790   0   0]\n",
            "Testes via métodos de potência!\n",
            "parada inv2:  [0.64051542 0.45117935 0.62143157]\n",
            "parada inv2:  [ 0.05825253  0.80554206 -0.58966824]\n",
            "pot regular:  790.2154454809591 pot inversa 1:  0.04445687069135247 pot inversa 2:  0.04445687069133066 pot shifted:  0.7391463384639918\n"
          ]
        }
      ]
    },
    {
      "cell_type": "code",
      "source": [
        "output_creto['eVal']"
      ],
      "metadata": {
        "colab": {
          "base_uri": "https://localhost:8080/"
        },
        "id": "qT1sfayJGppk",
        "outputId": "f63b5748-476d-46fa-be1f-aedd2d1c2257"
      },
      "execution_count": null,
      "outputs": [
        {
          "output_type": "execute_result",
          "data": {
            "text/plain": [
              "array([349.62299,  65.87252,  62.55406, -55.68479,  -9.97276,  13.74453,\n",
              "        24.54565, -20.6822 ])"
            ]
          },
          "metadata": {},
          "execution_count": 64
        }
      ]
    },
    {
      "cell_type": "code",
      "source": [
        "aut, auv = potReg(prod_sample_creto, x0 = [1], eps=0.001)"
      ],
      "metadata": {
        "id": "llExUaxcIZXQ"
      },
      "execution_count": null,
      "outputs": []
    },
    {
      "cell_type": "code",
      "source": [
        "np.sqrt(aut)"
      ],
      "metadata": {
        "colab": {
          "base_uri": "https://localhost:8080/"
        },
        "id": "C4VnZ_adI4s8",
        "outputId": "552b342e-be44-4592-e002-39472a7925de"
      },
      "execution_count": null,
      "outputs": [
        {
          "output_type": "execute_result",
          "data": {
            "text/plain": [
              "28.11077098695372"
            ]
          },
          "metadata": {},
          "execution_count": 69
        }
      ]
    },
    {
      "cell_type": "code",
      "source": [
        "aut2, auv2 = potInv_v1(prod_sample_creto, x0 = [1], eps=0.001)"
      ],
      "metadata": {
        "id": "zWhiII2WJFR5"
      },
      "execution_count": null,
      "outputs": []
    },
    {
      "cell_type": "code",
      "source": [
        "def svd(A, k=None, epsilon=1e-10):\n",
        "  n, m = A.shape\n",
        "  A_ = A.copy()\n",
        "  # print(\"n: \", n, \" m: \", m)\n",
        "      \n",
        "  svd_ = []\n",
        "  if k is None:\n",
        "      k = min(n, m)\n",
        "\n",
        "  for i in range(k):\n",
        "\n",
        "      if n > m:\n",
        "          # print(\"aq\")\n",
        "          v_, sgm = potReg4SVD(A_, 0.001)  # next singular vector\n",
        "          u_unnormalized = A @ v\n",
        "          # sigma = np.linalg.norm(u_unnormalized)  # next singular value\n",
        "          u = u_unnormalized / sgm\n",
        "          \n",
        "      else:\n",
        "          # print(\"here\")\n",
        "          u_, sgm = potReg4SVD(A_, eps=0.001)  # next singular vector\n",
        "          v_unnormalized = np.dot(A.T, u_)\n",
        "          # sigma = np.linalg.norm(v_unnormalized)  # next singular value\n",
        "          v = v_unnormalized / sgm\n",
        "      \n",
        "      A_ -= sgm * np.outer(u_, v)\n",
        "      svd_.append((sgm, u_, v))\n",
        "\n",
        "  singular_values, us, vs = [np.array(x) for x in zip(*svd_)]\n",
        "  return np.diag(singular_values), us.T, vs\n",
        "\n",
        "sample_svd = np.array([\n",
        "    [1,2,3],\n",
        "    [4,5,6]\n",
        "  ], dtype=np.float64)\n",
        "sv, us, vs = svd(sample_svd) # sv, us, vs\n",
        "sv\n",
        "#sample_svd.shape"
      ],
      "metadata": {
        "colab": {
          "base_uri": "https://localhost:8080/"
        },
        "id": "RJKVbB1fj61n",
        "outputId": "2a66dcfd-8651-476c-8fc7-382ac2ca15d9"
      },
      "execution_count": null,
      "outputs": [
        {
          "output_type": "execute_result",
          "data": {
            "text/plain": [
              "array([[9.508032  , 0.        ],\n",
              "       [0.        , 0.77286964]])"
            ]
          },
          "metadata": {},
          "execution_count": 29
        }
      ]
    },
    {
      "cell_type": "code",
      "source": [
        "us @ sv @ vs"
      ],
      "metadata": {
        "colab": {
          "base_uri": "https://localhost:8080/"
        },
        "id": "DGIH_b_08aNK",
        "outputId": "41f23a29-a427-49d0-c780-7365db003381"
      },
      "execution_count": null,
      "outputs": [
        {
          "output_type": "execute_result",
          "data": {
            "text/plain": [
              "array([[1., 2., 3.],\n",
              "       [4., 5., 6.]])"
            ]
          },
          "metadata": {},
          "execution_count": 22
        }
      ]
    },
    {
      "cell_type": "code",
      "source": [
        "sp_svd(sample_svd) # us, sv, vs"
      ],
      "metadata": {
        "colab": {
          "base_uri": "https://localhost:8080/"
        },
        "id": "ulHoB7gk7qQV",
        "outputId": "1e6c212e-6ca5-4491-82fa-a2ed5a489826"
      },
      "execution_count": null,
      "outputs": [
        {
          "output_type": "execute_result",
          "data": {
            "text/plain": [
              "(array([[-0.3863177 , -0.92236578],\n",
              "        [-0.92236578,  0.3863177 ]]),\n",
              " array([9.508032  , 0.77286964]),\n",
              " array([[-0.42866713, -0.56630692, -0.7039467 ],\n",
              "        [ 0.80596391,  0.11238241, -0.58119908],\n",
              "        [ 0.40824829, -0.81649658,  0.40824829]]))"
            ]
          },
          "metadata": {},
          "execution_count": 23
        }
      ]
    },
    {
      "cell_type": "code",
      "source": [
        "sample_creto = np.array([\n",
        "    [6, -12, -5, 16, -2],\n",
        "    [-3, 6, 3, -9, 1],\n",
        "    [-4, 8, 3, -10, 1]\n",
        "], dtype=float)\n",
        "\n",
        "sample_cretoB = np.array([-53, 29, 33])\n",
        "\n",
        "sv, us, vs = svd(sample_creto, k=None, epsilon=1e-10)"
      ],
      "metadata": {
        "id": "eO5ZLy0nCxa0"
      },
      "execution_count": null,
      "outputs": []
    },
    {
      "cell_type": "code",
      "source": [
        "prod_sample_creto = sample_creto @ sample_creto.T\n",
        "prod_sample_creto02 = sample_creto.T @ sample_creto\n",
        "prod_sample_creto02"
      ],
      "metadata": {
        "colab": {
          "base_uri": "https://localhost:8080/"
        },
        "id": "in6XRaw9FhEf",
        "outputId": "1af3d4ad-7b1b-4ec1-e815-5bf299534ec5"
      },
      "execution_count": null,
      "outputs": [
        {
          "output_type": "execute_result",
          "data": {
            "text/plain": [
              "array([[  61., -122.,  -51.,  163.,  -19.],\n",
              "       [-122.,  244.,  102., -326.,   38.],\n",
              "       [ -51.,  102.,   43., -137.,   16.],\n",
              "       [ 163., -326., -137.,  437.,  -51.],\n",
              "       [ -19.,   38.,   16.,  -51.,    6.]])"
            ]
          },
          "metadata": {},
          "execution_count": 90
        }
      ]
    },
    {
      "cell_type": "code",
      "source": [
        "aut1, auv1 = potReg(prod_sample_creto02, x0=[1], eps=0.0001)\n",
        "aut2, auv2 = potInv_v1(prod_sample_creto02, x0=[1], eps=0.0001)\n",
        "# aut3, auv3 = potShift(prod_sample_creto, mi=0.70, x0=[1], eps=0.0001)"
      ],
      "metadata": {
        "id": "ZpHFkkvdJrEu"
      },
      "execution_count": null,
      "outputs": []
    },
    {
      "cell_type": "code",
      "source": [
        "print('aut: ', np.sqrt(aut1), '\\nauv: ', auv1)"
      ],
      "metadata": {
        "colab": {
          "base_uri": "https://localhost:8080/"
        },
        "id": "lw-JZvGRJRAN",
        "outputId": "c87d6194-fdac-4cd6-a0bd-60a299e93d98"
      },
      "execution_count": null,
      "outputs": [
        {
          "output_type": "stream",
          "name": "stdout",
          "text": [
            "aut:  28.110770986937954 \n",
            "auv:  [ 0.27764458 -0.55528916 -0.23292665  0.74349788 -0.08673822]\n"
          ]
        }
      ]
    },
    {
      "cell_type": "code",
      "source": [
        "sv"
      ],
      "metadata": {
        "colab": {
          "base_uri": "https://localhost:8080/"
        },
        "id": "9f6gj1qzDQvD",
        "outputId": "c113eecd-783d-4f9b-9501-6da97928f894"
      },
      "execution_count": null,
      "outputs": [
        {
          "output_type": "execute_result",
          "data": {
            "text/plain": [
              "array([[28.11077099,  0.        ,  0.        ],\n",
              "       [ 0.        ,  0.86028809,  0.        ],\n",
              "       [ 0.        ,  0.        ,  0.21084798]])"
            ]
          },
          "metadata": {},
          "execution_count": 34
        }
      ]
    },
    {
      "cell_type": "code",
      "source": [
        "us"
      ],
      "metadata": {
        "colab": {
          "base_uri": "https://localhost:8080/"
        },
        "id": "sL3YYqIvDW7D",
        "outputId": "fe14ceee-ce2c-4c81-c387-1c1b544ee85b"
      },
      "execution_count": null,
      "outputs": [
        {
          "output_type": "execute_result",
          "data": {
            "text/plain": [
              "array([[-0.76708722,  0.03637701,  0.64051067],\n",
              "       [ 0.41413549,  0.79058349,  0.45107598],\n",
              "       [ 0.48996837, -0.61127281,  0.6215115 ]])"
            ]
          },
          "metadata": {},
          "execution_count": 35
        }
      ]
    },
    {
      "cell_type": "code",
      "source": [
        "vs.T"
      ],
      "metadata": {
        "colab": {
          "base_uri": "https://localhost:8080/"
        },
        "id": "6ko_DFtzDYgi",
        "outputId": "fbe4de7a-aa67-43cb-cf20-cbe8f305ce4e"
      },
      "execution_count": null,
      "outputs": [
        {
          "output_type": "execute_result",
          "data": {
            "text/plain": [
              "array([[-0.27764458,  0.3389595 ,  0.01797526],\n",
              "       [ 0.55528916, -0.677919  , -0.03595051],\n",
              "       [ 0.23292665,  0.4138695 ,  0.0721331 ],\n",
              "       [-0.74349788, -0.48877951, -0.12629094],\n",
              "       [ 0.08673822,  0.12386161, -0.98855039]])"
            ]
          },
          "metadata": {},
          "execution_count": 88
        }
      ]
    },
    {
      "cell_type": "code",
      "source": [
        "us_ , sv_ , vs_ = sp_svd(sample_svd)"
      ],
      "metadata": {
        "id": "ENn1qlcCDKEa"
      },
      "execution_count": null,
      "outputs": []
    },
    {
      "cell_type": "code",
      "source": [
        "# jacobi iterations\n",
        "def jacob_iter(A, b, max_it, eps, ops=1):\n",
        "  if ops == 1:\n",
        "    x_ = np.ones((A.shape[0], 1))\n",
        "  elif ops==2:\n",
        "    x_ = np.ones((A.shape[0], 1))\n",
        "    diago = A.diagonal()\n",
        "    id = 0\n",
        "    for el_a, el_b in zip(diago, b):\n",
        "      print(el_a, el_b)\n",
        "      x_[id] = el_b/el_a\n",
        "      id += 1\n",
        "  x_new = np.zeros((A.shape[0], 1))\n",
        "  print(\"X_ : \", x_.T, x_new.shape)\n",
        "  parada = False\n",
        "  it = 0\n",
        "  while (not parada):\n",
        "    for idx, row in enumerate(A):\n",
        "      # x_new[idx, 0] = ( b[idx] - sum( [el*x_[i] if i != idx else 0 for i, el in enumerate(row) ] ) )/row[idx]\n",
        "      \n",
        "      sum = 0\n",
        "      for j, el in enumerate(row):\n",
        "        if j != idx:\n",
        "          print(\"sum: \", sum, \"el: \", el, \"x[j]: \", x_[j], \"t: \", sum + el*x_[j], \"j: \", j)\n",
        "          sum += el*x_[j]\n",
        "      \n",
        "      x_new[idx, 0] = (b[idx] - sum)/row[idx] # testar com - em vez de  +\n",
        "      print(\"row: \", row, \"sum: \", sum, \"x: \", x_new[idx, 0], \"b: \", b[idx], \"idx: \", idx)\n",
        "    L_ = np.linalg.norm(x_, 2)\n",
        "    L_new = np.linalg.norm(x_new, 2)\n",
        "    if( abs(L_ - L_new) < eps ):\n",
        "      parada = True\n",
        "    print(\"x_: \", x_.T, \" - x_new: \", x_new.T)\n",
        "    print(abs(L_ - L_new))\n",
        "    x_ = np.copy(x_new)\n",
        "    it += 1\n",
        "  return x_\n",
        "\n",
        "sample_wen = np.array([\n",
        "    [2, -1, 0],\n",
        "    [-1, 2, 1],\n",
        "    [0, -1, 2]\n",
        "], dtype=np.float64)\n",
        "\n",
        "sample_bWen = np.array([\n",
        "    [0, 1, 2]\n",
        "], dtype=np.float64).T\n",
        "\n",
        "out = jacob_iter(sample_wen, sample_bWen, 5000, 0.01, ops=2)\n",
        "print(\"output\", out.T) # 0.625, 1.5, 1.625"
      ],
      "metadata": {
        "colab": {
          "base_uri": "https://localhost:8080/"
        },
        "id": "ICDGROqv-ZRP",
        "outputId": "1aebccf3-7a0f-4a2c-fe6f-1210c4085844"
      },
      "execution_count": null,
      "outputs": [
        {
          "output_type": "stream",
          "name": "stdout",
          "text": [
            "2.0 [0.]\n",
            "2.0 [1.]\n",
            "2.0 [2.]\n",
            "X_ :  [[0.  0.5 1. ]] (3, 1)\n",
            "sum:  0 el:  -1.0 x[j]:  [0.5] t:  [-0.5] j:  1\n",
            "sum:  [-0.5] el:  0.0 x[j]:  [1.] t:  [-0.5] j:  2\n",
            "row:  [ 2. -1.  0.] sum:  [-0.5] x:  0.25 b:  [0.] idx:  0\n",
            "sum:  0 el:  -1.0 x[j]:  [0.] t:  [0.] j:  0\n",
            "sum:  [0.] el:  1.0 x[j]:  [1.] t:  [1.] j:  2\n",
            "row:  [-1.  2.  1.] sum:  [1.] x:  0.0 b:  [1.] idx:  1\n",
            "sum:  0 el:  0.0 x[j]:  [0.] t:  [0.] j:  0\n",
            "sum:  [0.] el:  -1.0 x[j]:  [0.5] t:  [-0.5] j:  1\n",
            "row:  [ 0. -1.  2.] sum:  [-0.5] x:  1.25 b:  [2.] idx:  2\n",
            "x_:  [[0.  0.5 1. ]]  - x_new:  [[0.25 0.   1.25]]\n",
            "0.15672088964830144\n",
            "sum:  0 el:  -1.0 x[j]:  [0.] t:  [0.] j:  1\n",
            "sum:  [0.] el:  0.0 x[j]:  [1.25] t:  [0.] j:  2\n",
            "row:  [ 2. -1.  0.] sum:  [0.] x:  0.0 b:  [0.] idx:  0\n",
            "sum:  0 el:  -1.0 x[j]:  [0.25] t:  [-0.25] j:  0\n",
            "sum:  [-0.25] el:  1.0 x[j]:  [1.25] t:  [1.] j:  2\n",
            "row:  [-1.  2.  1.] sum:  [1.] x:  0.0 b:  [1.] idx:  1\n",
            "sum:  0 el:  0.0 x[j]:  [0.25] t:  [0.] j:  0\n",
            "sum:  [0.] el:  -1.0 x[j]:  [0.] t:  [0.] j:  1\n",
            "row:  [ 0. -1.  2.] sum:  [0.] x:  1.0 b:  [2.] idx:  2\n",
            "x_:  [[0.25 0.   1.25]]  - x_new:  [[0. 0. 1.]]\n",
            "0.27475487839819634\n",
            "sum:  0 el:  -1.0 x[j]:  [0.] t:  [0.] j:  1\n",
            "sum:  [0.] el:  0.0 x[j]:  [1.] t:  [0.] j:  2\n",
            "row:  [ 2. -1.  0.] sum:  [0.] x:  0.0 b:  [0.] idx:  0\n",
            "sum:  0 el:  -1.0 x[j]:  [0.] t:  [0.] j:  0\n",
            "sum:  [0.] el:  1.0 x[j]:  [1.] t:  [1.] j:  2\n",
            "row:  [-1.  2.  1.] sum:  [1.] x:  0.0 b:  [1.] idx:  1\n",
            "sum:  0 el:  0.0 x[j]:  [0.] t:  [0.] j:  0\n",
            "sum:  [0.] el:  -1.0 x[j]:  [0.] t:  [0.] j:  1\n",
            "row:  [ 0. -1.  2.] sum:  [0.] x:  1.0 b:  [2.] idx:  2\n",
            "x_:  [[0. 0. 1.]]  - x_new:  [[0. 0. 1.]]\n",
            "0.0\n",
            "output [[0. 0. 1.]]\n"
          ]
        }
      ]
    },
    {
      "cell_type": "code",
      "source": [
        "sample_jacobi = np.array([\n",
        "    [4, -1, -1],\n",
        "    [-2, 6, 1],\n",
        "    [-1, 1, 7]\n",
        "])\n",
        "\n",
        "sample_bJaco = np.ones((3, 1))\n",
        "sample_bJaco[0, 0] = 3\n",
        "sample_bJaco[1, 0] = 9\n",
        "sample_bJaco[2, 0] = -6\n",
        "\n",
        "# https://www.quantstart.com/articles/Jacobi-Method-in-Python-and-NumPy/\n",
        "A = np.array([[2.0,1.0],[5.0,7.0]])\n",
        "b = np.array([11.0,13.0])\n",
        "# saída esperada: 7, -3\n",
        "\n",
        "# out = jacob_iter(sample_jacobi, sample_bJaco, 5, 0.01, ops=2)\n",
        "# print(out)\n",
        "\n",
        "out = jacob_iter(A, b, 5000, 0.01)\n",
        "print(out)\n",
        "\n",
        "# out = jacob_iter(sample_wen, sample_bWen, 5000, 0.01, ops=2)\n",
        "# print(out)"
      ],
      "metadata": {
        "colab": {
          "base_uri": "https://localhost:8080/"
        },
        "id": "ZjH--Dev-o3A",
        "outputId": "5c77d9b1-9ebf-41b2-c857-163a6d05267f"
      },
      "execution_count": null,
      "outputs": [
        {
          "output_type": "stream",
          "name": "stdout",
          "text": [
            "X_ :  [[1. 1.]] (2, 1)\n",
            "sum:  0 el:  1.0 x[j]:  [1.] t:  [1.] j:  1\n",
            "row:  [2. 1.] sum:  [1.] x:  5.0 b:  11.0 idx:  0\n",
            "sum:  0 el:  5.0 x[j]:  [1.] t:  [5.] j:  0\n",
            "row:  [5. 7.] sum:  [5.] x:  1.1428571428571428 b:  13.0 idx:  1\n",
            "x_:  [[1. 1.]]  - x_new:  [[5.         1.14285714]]\n",
            "3.714735886488689\n",
            "sum:  0 el:  1.0 x[j]:  [1.14285714] t:  [1.14285714] j:  1\n",
            "row:  [2. 1.] sum:  [1.14285714] x:  4.928571428571429 b:  11.0 idx:  0\n",
            "sum:  0 el:  5.0 x[j]:  [5.] t:  [25.] j:  0\n",
            "row:  [5. 7.] sum:  [25.] x:  -1.7142857142857142 b:  13.0 idx:  1\n",
            "x_:  [[5.         1.14285714]]  - x_new:  [[ 4.92857143 -1.71428571]]\n",
            "0.08924869194646856\n",
            "sum:  0 el:  1.0 x[j]:  [-1.71428571] t:  [-1.71428571] j:  1\n",
            "row:  [2. 1.] sum:  [-1.71428571] x:  6.357142857142857 b:  11.0 idx:  0\n",
            "sum:  0 el:  5.0 x[j]:  [4.92857143] t:  [24.64285714] j:  0\n",
            "row:  [5. 7.] sum:  [24.64285714] x:  -1.6632653061224494 b:  13.0 idx:  1\n",
            "x_:  [[ 4.92857143 -1.71428571]]  - x_new:  [[ 6.35714286 -1.66326531]]\n",
            "1.352929371626204\n",
            "sum:  0 el:  1.0 x[j]:  [-1.66326531] t:  [-1.66326531] j:  1\n",
            "row:  [2. 1.] sum:  [-1.66326531] x:  6.331632653061225 b:  11.0 idx:  0\n",
            "sum:  0 el:  5.0 x[j]:  [6.35714286] t:  [31.78571429] j:  0\n",
            "row:  [5. 7.] sum:  [31.78571429] x:  -2.683673469387755 b:  13.0 idx:  1\n",
            "x_:  [[ 6.35714286 -1.66326531]]  - x_new:  [[ 6.33163265 -2.68367347]]\n",
            "0.30576679703452303\n",
            "sum:  0 el:  1.0 x[j]:  [-2.68367347] t:  [-2.68367347] j:  1\n",
            "row:  [2. 1.] sum:  [-2.68367347] x:  6.841836734693878 b:  11.0 idx:  0\n",
            "sum:  0 el:  5.0 x[j]:  [6.33163265] t:  [31.65816327] j:  0\n",
            "row:  [5. 7.] sum:  [31.65816327] x:  -2.6654518950437316 b:  13.0 idx:  1\n",
            "x_:  [[ 6.33163265 -2.68367347]]  - x_new:  [[ 6.84183673 -2.6654519 ]]\n",
            "0.4658138904391995\n",
            "sum:  0 el:  1.0 x[j]:  [-2.6654519] t:  [-2.6654519] j:  1\n",
            "row:  [2. 1.] sum:  [-2.6654519] x:  6.832725947521865 b:  11.0 idx:  0\n",
            "sum:  0 el:  5.0 x[j]:  [6.84183673] t:  [34.20918367] j:  0\n",
            "row:  [5. 7.] sum:  [34.20918367] x:  -3.0298833819241984 b:  13.0 idx:  1\n",
            "x_:  [[ 6.84183673 -2.6654519 ]]  - x_new:  [[ 6.83272595 -3.02988338]]\n",
            "0.13167051554362796\n",
            "sum:  0 el:  1.0 x[j]:  [-3.02988338] t:  [-3.02988338] j:  1\n",
            "row:  [2. 1.] sum:  [-3.02988338] x:  7.014941690962099 b:  11.0 idx:  0\n",
            "sum:  0 el:  5.0 x[j]:  [6.83272595] t:  [34.16362974] j:  0\n",
            "row:  [5. 7.] sum:  [34.16362974] x:  -3.0233756768013325 b:  13.0 idx:  1\n",
            "x_:  [[ 6.83272595 -3.02988338]]  - x_new:  [[ 7.01494169 -3.02337568]]\n",
            "0.16435203059966774\n",
            "sum:  0 el:  1.0 x[j]:  [-3.02337568] t:  [-3.02337568] j:  1\n",
            "row:  [2. 1.] sum:  [-3.02337568] x:  7.0116878384006665 b:  11.0 idx:  0\n",
            "sum:  0 el:  5.0 x[j]:  [7.01494169] t:  [35.07470845] j:  0\n",
            "row:  [5. 7.] sum:  [35.07470845] x:  -3.1535297792586428 b:  13.0 idx:  1\n",
            "x_:  [[ 7.01494169 -3.02337568]]  - x_new:  [[ 7.01168784 -3.15352978]]\n",
            "0.04947557349061249\n",
            "sum:  0 el:  1.0 x[j]:  [-3.15352978] t:  [-3.15352978] j:  1\n",
            "row:  [2. 1.] sum:  [-3.15352978] x:  7.076764889629321 b:  11.0 idx:  0\n",
            "sum:  0 el:  5.0 x[j]:  [7.01168784] t:  [35.05843919] j:  0\n",
            "row:  [5. 7.] sum:  [35.05843919] x:  -3.151205598857619 b:  13.0 idx:  1\n",
            "x_:  [[ 7.01168784 -3.15352978]]  - x_new:  [[ 7.07676489 -3.1512056 ]]\n",
            "0.05845089691985628\n",
            "sum:  0 el:  1.0 x[j]:  [-3.1512056] t:  [-3.1512056] j:  1\n",
            "row:  [2. 1.] sum:  [-3.1512056] x:  7.075602799428809 b:  11.0 idx:  0\n",
            "sum:  0 el:  5.0 x[j]:  [7.07676489] t:  [35.38382445] j:  0\n",
            "row:  [5. 7.] sum:  [35.38382445] x:  -3.197689206878086 b:  13.0 idx:  1\n",
            "x_:  [[ 7.07676489 -3.1512056 ]]  - x_new:  [[ 7.0756028  -3.19768921]]\n",
            "0.01796584194014539\n",
            "sum:  0 el:  1.0 x[j]:  [-3.19768921] t:  [-3.19768921] j:  1\n",
            "row:  [2. 1.] sum:  [-3.19768921] x:  7.098844603439043 b:  11.0 idx:  0\n",
            "sum:  0 el:  5.0 x[j]:  [7.0756028] t:  [35.378014] j:  0\n",
            "row:  [5. 7.] sum:  [35.378014] x:  -3.1968591424491493 b:  13.0 idx:  1\n",
            "x_:  [[ 7.0756028  -3.19768921]]  - x_new:  [[ 7.0988446  -3.19685914]]\n",
            "0.02084437011088003\n",
            "sum:  0 el:  1.0 x[j]:  [-3.19685914] t:  [-3.19685914] j:  1\n",
            "row:  [2. 1.] sum:  [-3.19685914] x:  7.098429571224575 b:  11.0 idx:  0\n",
            "sum:  0 el:  5.0 x[j]:  [7.0988446] t:  [35.49422302] j:  0\n",
            "row:  [5. 7.] sum:  [35.49422302] x:  -3.213460431027888 b:  13.0 idx:  1\n",
            "x_:  [[ 7.0988446  -3.19685914]]  - x_new:  [[ 7.09842957 -3.21346043]]\n",
            "0.0064534078031597275\n",
            "[[ 7.09842957]\n",
            " [-3.21346043]]\n"
          ]
        }
      ]
    },
    {
      "cell_type": "code",
      "source": [
        "# gauss-seidel iterations\n",
        "\n",
        "def gs_iter(A, b, eps, sor=1):\n",
        "  parada = False\n",
        "  x_ = np.ones((A.shape[0], 1)).astype(np.float64)\n",
        "  diago = A.diagonal()\n",
        "  id = 0\n",
        "  for el_a, el_b in zip(diago, b):\n",
        "    print(el_a, el_b)\n",
        "    x_[id] = el_b/el_a\n",
        "    id += 1\n",
        "\n",
        "  x_new = np.zeros((A.shape[0], 1))\n",
        "  itr = 0\n",
        "  while(not parada):\n",
        "    #print(\"iteração: \", itr)\n",
        "    itr += 1\n",
        "    for i in range(A.shape[0]):\n",
        "      #print('i', i)\n",
        "      sum1 = sum([\n",
        "          A[i, j]*x_[j] for j in range(i)\n",
        "      ])\n",
        "\n",
        "      sum2 = sum([\n",
        "          A[i, j]*x_[j] for j in range(i+1, A.shape[0])\n",
        "      ])\n",
        "\n",
        "      # gaus-seidel : sor = 1 ; sor : sor > 1\n",
        "      x_new[i] = (1 - sor)*x_[i] + (sor/A[i,i]) * ( b[i, 0]-sum1-sum2) \n",
        "      # print(x_new[i])\n",
        "    \n",
        "    L_ = np.linalg.norm(x_, 2)\n",
        "    L_new = np.linalg.norm(x_new, 2)\n",
        "    #print(\"sum1: \", sum1, \"sum2: \", sum2)\n",
        "    if( abs(L_ - L_new) < eps ):\n",
        "      parada = True\n",
        "    x_ = np.copy(x_new)\n",
        "  \n",
        "  return x_new\n",
        "\n",
        "#gs_iter(sample_wen, sample_bWen, 0.001) # 0.5625 1.5625 1.7813\n",
        "A = np.array([[2.0,1.0],[5.0,7.0]])\n",
        "b = np.array([11.0,13.0])\n",
        "gs_iter(A.astype(np.float64), np.reshape(b, (2, 1)).astype(np.float64), 0.00001, sor=1) "
      ],
      "metadata": {
        "colab": {
          "base_uri": "https://localhost:8080/"
        },
        "id": "IGCvPqSh-__I",
        "outputId": "f6b75086-2811-40c2-ee1d-c57e5e6d2b94"
      },
      "execution_count": null,
      "outputs": [
        {
          "output_type": "stream",
          "name": "stdout",
          "text": [
            "2.0 [11.]\n",
            "7.0 [13.]\n"
          ]
        },
        {
          "output_type": "execute_result",
          "data": {
            "text/plain": [
              "array([[ 7.11108049],\n",
              "       [-3.22220835]])"
            ]
          },
          "metadata": {},
          "execution_count": 42
        }
      ]
    },
    {
      "cell_type": "code",
      "source": [
        "scp.solve(A, b)"
      ],
      "metadata": {
        "colab": {
          "base_uri": "https://localhost:8080/"
        },
        "id": "SFoBadXOkJDf",
        "outputId": "27900b97-5b7e-486b-af6a-48ed2772516e"
      },
      "execution_count": null,
      "outputs": [
        {
          "output_type": "execute_result",
          "data": {
            "text/plain": [
              "array([ 7.11111111, -3.22222222])"
            ]
          },
          "metadata": {},
          "execution_count": 43
        }
      ]
    },
    {
      "cell_type": "code",
      "source": [
        "def SOR(A, b, omg, init_g, eps):\n",
        "  phi = init_g[:]\n",
        "  res = np.linalg.norm(np.matmul(A, phi) - b)\n",
        "  while(res > eps):\n",
        "    for i in range(A.shape[0]):\n",
        "      sigma = 0\n",
        "      for j in range(A.shape[1]):\n",
        "        if(j != i):\n",
        "          sigma += A[i][j] * phi[j]\n",
        "      phi[i] = (1 - omg) * phi[i] + (omg / A[i][i]) * (b[i] - sigma)\n",
        "    res = np.linalg.norm(np.matmul(A, phi) - b)\n",
        "    # print('Residual: {0:10.6g}'.format(res))\n",
        "  return phi\n",
        "\n",
        "SOR(A, b, 1.5, np.zeros(2), 0.0001)"
      ],
      "metadata": {
        "colab": {
          "base_uri": "https://localhost:8080/"
        },
        "id": "MoYpe703Id_0",
        "outputId": "b7e2dcd8-cbb5-453b-d55e-be98563097ee"
      },
      "execution_count": null,
      "outputs": [
        {
          "output_type": "execute_result",
          "data": {
            "text/plain": [
              "array([ 7.11112034, -3.22223376])"
            ]
          },
          "metadata": {},
          "execution_count": 44
        }
      ]
    },
    {
      "cell_type": "code",
      "source": [
        "def grad_conj(A, b, x0=None, eps=1e-5, maxiter=100):\n",
        "    n = b.shape[0]\n",
        "    if not x0:\n",
        "        x0 = np.zeros(n)\n",
        "        print(x0)\n",
        "    grad0 = np.dot(A, x0) - b        \n",
        "    print(\"grad0: \", grad0)\n",
        "    d = - grad0                      \n",
        "    \n",
        "    for i in range(maxiter):\n",
        "        alpha = np.dot(grad0.T, grad0) / np.dot(np.dot(d.T, A), d)\n",
        "        print(\" alpha: \", alpha)\n",
        "        # x0 = x0 + d*(alpha[0])\n",
        "        x0 = x0 + d*(alpha)\n",
        "        # gradi = grad0 + np.dot(A*(alpha[0]), d)\n",
        "        gradi = grad0 + np.dot(A*(alpha), d)\n",
        "        # print(i, np.linalg.norm(gradi))\n",
        "\n",
        "        if np.linalg.norm(gradi) < eps:\n",
        "            # print(\"alpha: \", alpha, \" x0\", x0.shape, \" gradi: \", gradi, \" grad0: \", grad0, \"betha: \", betai, \" d: \", d.shape)\n",
        "            return x0\n",
        "        betai = np.dot(gradi.T, gradi) / np.dot(grad0.T, grad0)\n",
        "        # d = - gradi + (betai[0])*d\n",
        "        d = - gradi + (betai)*d\n",
        "        grad0 = gradi\n",
        "    # print(\"alpha: \", alpha, \" x0\", x0.shape, \" gradi: \", gradi, \" grad0: \", grad0, \"betha: \", betai, \" d: \", d.shape)\n",
        "    return x0\n",
        "\n",
        "sample_gc = np.array([\n",
        "    [ 2.5409, -0.0113],\n",
        "    [-0.0113,  0.5287]\n",
        "  ])\n",
        "# sample_gcB = np.array([\n",
        "#     [1.3864,  0.3719]\n",
        "# ]).T\n",
        "sample_gcB = np.array( [1.3864,  0.3719] )\n",
        "grad_conj(sample_gc, sample_gcB)"
      ],
      "metadata": {
        "colab": {
          "base_uri": "https://localhost:8080/"
        },
        "id": "UROCvEhSintf",
        "outputId": "83429fdf-da10-4d56-d3bd-ad371c10f3fe"
      },
      "execution_count": null,
      "outputs": [
        {
          "output_type": "stream",
          "name": "stdout",
          "text": [
            "[0. 0.]\n",
            "grad0:  [-1.3864 -0.3719]\n",
            " alpha:  0.4166369074833467\n",
            " alpha:  1.7868440888573531\n"
          ]
        },
        {
          "output_type": "execute_result",
          "data": {
            "text/plain": [
              "array([0.5488139 , 0.71515339])"
            ]
          },
          "metadata": {},
          "execution_count": 45
        }
      ]
    },
    {
      "cell_type": "code",
      "source": [
        "cg(sample_gc, sample_gcB)"
      ],
      "metadata": {
        "id": "Vy3tfNmjh0PS",
        "colab": {
          "base_uri": "https://localhost:8080/"
        },
        "outputId": "552030ef-036f-4575-fea1-d12320506496"
      },
      "execution_count": null,
      "outputs": [
        {
          "output_type": "execute_result",
          "data": {
            "text/plain": [
              "(array([0.5488139 , 0.71515339]), 0)"
            ]
          },
          "metadata": {},
          "execution_count": 46
        }
      ]
    }
  ]
}