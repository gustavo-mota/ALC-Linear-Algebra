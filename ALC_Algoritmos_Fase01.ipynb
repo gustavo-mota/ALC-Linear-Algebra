{
  "nbformat": 4,
  "nbformat_minor": 0,
  "metadata": {
    "colab": {
      "provenance": [],
      "authorship_tag": "ABX9TyNMmzNCTiKUwHxG/Q7Y9w3P",
      "include_colab_link": true
    },
    "kernelspec": {
      "name": "python3",
      "display_name": "Python 3"
    },
    "language_info": {
      "name": "python"
    }
  },
  "cells": [
    {
      "cell_type": "markdown",
      "metadata": {
        "id": "view-in-github",
        "colab_type": "text"
      },
      "source": [
        "<a href=\"https://colab.research.google.com/github/gustavo-mota/ALC-Linear-Algebra/blob/main/ALC_Algoritmos_Fase01.ipynb\" target=\"_parent\"><img src=\"https://colab.research.google.com/assets/colab-badge.svg\" alt=\"Open In Colab\"/></a>"
      ]
    },
    {
      "cell_type": "markdown",
      "source": [
        "<div style=\"text-align: center\">\n",
        "<h1>Curso de Algebra Linear</h1>\n",
        "<h3>CKP8122</h3>\n",
        "<h1>Programa de Mestrado e Doutorado em Ciência da Computação - MDCC</h1>\n",
        "<h3>Universidade Federal do Ceará</h3>\n",
        "<h2>Gustavo Mota</h2>\n",
        "<h3>2022.2</h3>\n",
        "</div>\n"
      ],
      "metadata": {
        "id": "kdXUtYBQ13pO"
      }
    },
    {
      "cell_type": "code",
      "source": [
        "import numpy as np\n",
        "import cmath\n",
        "from operator import itemgetter\n",
        "# from scipy import linalg as scp\n",
        "from scipy.sparse.linalg import cg\n",
        "from scipy.linalg import svd as sp_svd\n",
        "from scipy.linalg import lu as sp_lu\n",
        "import sympy as sy\n",
        "#from math import sqrt"
      ],
      "metadata": {
        "id": "imO2tk_P2E_J"
      },
      "execution_count": null,
      "outputs": []
    },
    {
      "cell_type": "code",
      "source": [
        "sample_creto = np.array([\n",
        "    [6, -12, -5, 16, -2],\n",
        "    [-3, 6, 3, -9, 5],\n",
        "    [-4, 8, 3, -10, 1]\n",
        "])\n",
        "\n",
        "sample_cretoB = np.array([-53, 29, 33])"
      ],
      "metadata": {
        "id": "zAtBrVAd2kC4"
      },
      "execution_count": null,
      "outputs": []
    },
    {
      "cell_type": "markdown",
      "source": [
        "Algoritmo de Gauss-jordan: Pivotação parcial/eliminação e resolução\n",
        "\n",
        "Saída esperada: vetor resposta"
      ],
      "metadata": {
        "id": "5GqLlwZO0830"
      }
    },
    {
      "cell_type": "code",
      "source": [
        "sam = np.array([\n",
        "    [1,2,3,4,5],\n",
        "    [9,0,0,0,0],\n",
        "    [5,5,5,5,5],\n",
        "    [4,4,4,4,4],\n",
        "    [0,0,0,9,9],\n",
        "])\n",
        "\n",
        "#checkNswap(sam)\n",
        "sam"
      ],
      "metadata": {
        "colab": {
          "base_uri": "https://localhost:8080/"
        },
        "id": "Vk1-6uyP6C2q",
        "outputId": "d551339e-761f-4c12-c49b-b1f87694f991"
      },
      "execution_count": null,
      "outputs": [
        {
          "output_type": "execute_result",
          "data": {
            "text/plain": [
              "array([[1, 2, 3, 4, 5],\n",
              "       [9, 0, 0, 0, 0],\n",
              "       [5, 5, 5, 5, 5],\n",
              "       [4, 4, 4, 4, 4],\n",
              "       [0, 0, 0, 9, 9]])"
            ]
          },
          "metadata": {},
          "execution_count": 2
        }
      ]
    },
    {
      "cell_type": "code",
      "source": [
        "def pivota_parr(matriz, center_idx):\n",
        "\tn = matriz.shape[0]\n",
        "\tmatriz = matriz.copy()\n",
        "\n",
        "\tsucess = False\n",
        "\tfor row in range(center_idx + 1, n):\n",
        "\n",
        "\t\ttest_value = matriz[row, center_idx]\n",
        "\n",
        "\t\tif not np.isclose(test_value, 0):\n",
        "\t\t\tmatriz[center_idx, :], matriz[row, :] = matriz[row, :].copy(), matriz[center_idx, :].copy()\n",
        "\t\t\tsucess = True\n",
        "\t\t\tbreak\n",
        "\n",
        "\treturn matriz, sucess"
      ],
      "metadata": {
        "id": "HAo76j4BrBNb"
      },
      "execution_count": null,
      "outputs": []
    },
    {
      "cell_type": "code",
      "source": [
        "def total_pivotation(matrix, center_idx, idx_arr):\n",
        "  matrix = matrix.copy()\n",
        "  n = matrix.shape[0]\n",
        "  sucess = False\n",
        "  \n",
        "  for col in range(center_idx + 1, n):\n",
        "    test_value = matrix[center_idx, col]\n",
        "\n",
        "    if not np.isclose(test_value, 0):\n",
        "      matrix[:, center_idx], matrix[:, col] = matrix[:, col].copy(), matrix[:, center_idx].copy()\n",
        "      idx_arr[center_idx], idx_arr[col] = idx_arr[col], idx_arr[center_idx]\n",
        "\n",
        "      sucess = True\n",
        "      break\n",
        "\n",
        "  return matrix, idx_arr, sucess\n",
        "\n",
        "total_pivotation(sam, 0, np.arange(sam.shape[0]))"
      ],
      "metadata": {
        "colab": {
          "base_uri": "https://localhost:8080/"
        },
        "id": "8C_3M2-BtWSF",
        "outputId": "2b9dbc5a-802c-45e9-c3dd-08dad6ce1a82"
      },
      "execution_count": null,
      "outputs": [
        {
          "output_type": "execute_result",
          "data": {
            "text/plain": [
              "(array([[2, 1, 3, 4, 5],\n",
              "        [0, 9, 0, 0, 0],\n",
              "        [5, 5, 5, 5, 5],\n",
              "        [4, 4, 4, 4, 4],\n",
              "        [0, 0, 0, 9, 9]]), array([1, 0, 2, 3, 4]), True)"
            ]
          },
          "metadata": {},
          "execution_count": 4
        }
      ]
    },
    {
      "cell_type": "code",
      "source": [
        "def corr(x_b, center_idx, resp_arr_idx):\n",
        "\n",
        "\tx_b, sucess = pivota_parr(x_b, center_idx)\n",
        "\n",
        "\tif not sucess:\n",
        "\t\tx_b, resp_arr_idx, sucess = total_pivotation(x_b, center_idx, resp_arr_idx)\n",
        "\n",
        "\tif not sucess:\n",
        "\t\tprint(\"Erro!\")\n",
        "\t\treturn 0, 0\n",
        "\n",
        "\treturn x_b, resp_arr_idx\n",
        "\n",
        "corr(sam, 1, np.arange(sam.shape[0]))"
      ],
      "metadata": {
        "colab": {
          "base_uri": "https://localhost:8080/"
        },
        "id": "OWFM9RiZvxrj",
        "outputId": "d2920e81-06a5-4452-99cb-b0cfe6901b58"
      },
      "execution_count": null,
      "outputs": [
        {
          "output_type": "execute_result",
          "data": {
            "text/plain": [
              "(array([[1, 2, 3, 4, 5],\n",
              "        [5, 5, 5, 5, 5],\n",
              "        [9, 0, 0, 0, 0],\n",
              "        [4, 4, 4, 4, 4],\n",
              "        [0, 0, 0, 9, 9]]), array([0, 1, 2, 3, 4]))"
            ]
          },
          "metadata": {},
          "execution_count": 5
        }
      ]
    },
    {
      "cell_type": "code",
      "source": [
        "def op_msr(matrix, origin_rown_idx, dest_rown_idx, shape=None, coef=1):\n",
        "  origin_rown = matrix[origin_rown_idx, :]\n",
        "  dest_rown = matrix[dest_rown_idx, :]\n",
        "  \n",
        "  matrix[dest_rown_idx, :] = dest_rown - (coef * origin_rown)\n",
        "  return matrix\n",
        "\n",
        "def divide_line(matrix, origin_rown_idx, coef=1):\n",
        "  origin_rown = matrix[origin_rown_idx, :].copy()\n",
        "  \n",
        "  matrix[origin_rown_idx, :] = origin_rown / coef\n",
        "  \n",
        "  return matrix\n",
        "\n",
        "def backward_substitution(x_b):\n",
        "\tn = x_b.shape[0]\n",
        "\n",
        "\tx = np.empty(n)\n",
        "\n",
        "\tx[n - 1] = x_b[n - 1, n] / x_b[n - 1, n - 1]\n",
        "\n",
        "\tfor i in range(n - 2, -1, -1):\n",
        "\t\tx[i] = x_b[i, n]\n",
        "\n",
        "\t\tfor j in range(i + 1, n):\n",
        "\t\t\tx[i] = x[i] - x_b[i, j] * x[j]\n",
        "\n",
        "\t\tx[i] = x[i] / x_b[i, i]\n",
        "\n",
        "\treturn x"
      ],
      "metadata": {
        "id": "S0U76dQ5ybzj"
      },
      "execution_count": null,
      "outputs": []
    },
    {
      "cell_type": "code",
      "source": [
        "def gauss(A, b):\n",
        "  # A = A.copy()\n",
        "  A = np.column_stack((A, b))\n",
        "  n = A.shape[0]\n",
        "  resp_order = np.arange(n)\n",
        "  for i in range(n): \n",
        "    if np.isclose(A[i, i], 0):\n",
        "      A, resp_order = corr(A, i, resp_order)\n",
        "    \n",
        "    for j in range(i + 1, n):\n",
        "      alpha = A[j, i] / A[i, i]\n",
        "      A = op_msr(A.copy(), origin_rown_idx=i, dest_rown_idx=j, shape=n, coef=alpha)\n",
        "\n",
        "    A = divide_line(A.copy(), origin_rown_idx=i, coef=A[i, i])\n",
        "    \n",
        "  return A, resp_order"
      ],
      "metadata": {
        "id": "5he4oercvZrM"
      },
      "execution_count": null,
      "outputs": []
    },
    {
      "cell_type": "code",
      "source": [
        "sample_gausspar01 = np.array([\n",
        "    [1,2], \n",
        "    [3,4]\n",
        "], dtype=float)\n",
        "sample_gausspar01B = np.array([1,2], dtype=float)\n",
        "\n",
        "sample_gausspar02 = np.array([\n",
        "    [1, 1, 1],\n",
        "    [4, 3, 4],\n",
        "    [9, 3, 4],\n",
        "], dtype=float)\n",
        "sample_gausspar02B = np.array([3,8,7], dtype=float)\n",
        "\n",
        "sample_gausspar03 = np.array([\n",
        "    [0.02, 0.01, 0, 0],\n",
        "    [1, 2, 1, 0],\n",
        "    [0, 1, 2, 1],\n",
        "    [0, 0, 100, 200]\n",
        "],dtype=float)\n",
        "sample_gausspar03B = np.array([0.02, 1, 4, 800], dtype=float)\n",
        "\n",
        "sample_gausspar04 = np.array([\n",
        "    [5., 1., 0., 2., 1.],\n",
        "    [0., 4., 0., 1., 2.],\n",
        "    [1., 1., 4., 1., 1.],\n",
        "    [0., 1., 2., 6., 0.],\n",
        "    [0., 0., 1., 2., 4.]\n",
        "],dtype=float)\n",
        "sample_gausspar04B = np.array([1., 2., 3., 4., 5.], dtype=float)\n",
        "\n",
        "# A01, B01 = eliminacao_gau(sample_gausspar01, sample_gausspar01B)\n",
        "# sample_gausspar01_solu = back_substitution(A01, B01)\n",
        "\n",
        "# A02, B02 = eliminacao_gau(sample_gausspar02, sample_gausspar02B)\n",
        "# sample_gausspar02_solu = back_substitution(A02, B02)\n",
        "\n",
        "# A03, B03 = eliminacao_gau(sample_gausspar03, sample_gausspar03B)\n",
        "# sample_gausspar03_solu = back_substitution(A03, B03)\n",
        "\n",
        "A02, B02 = gauss(sample_gausspar02.copy(), sample_gausspar02B.copy())\n",
        "# sample_gausspar03_solu = back_substitution(A03, B03)\n",
        "\n",
        "# sample_gausspar02 @ sample_gausspar02_solu\n",
        "backward_substitution(A02)"
      ],
      "metadata": {
        "colab": {
          "base_uri": "https://localhost:8080/"
        },
        "id": "OnzSsGeSBzGX",
        "outputId": "d9c04908-37b0-4ca5-cc39-1b7fb1bbe83f"
      },
      "execution_count": null,
      "outputs": [
        {
          "output_type": "execute_result",
          "data": {
            "text/plain": [
              "array([-0.2,  4. , -0.8])"
            ]
          },
          "metadata": {},
          "execution_count": 8
        }
      ]
    },
    {
      "cell_type": "code",
      "source": [
        "A02"
      ],
      "metadata": {
        "colab": {
          "base_uri": "https://localhost:8080/"
        },
        "id": "OjHjOsYu12f-",
        "outputId": "cecf26d6-a13e-4416-e175-030d268969f1"
      },
      "execution_count": null,
      "outputs": [
        {
          "output_type": "execute_result",
          "data": {
            "text/plain": [
              "array([[ 1. ,  1. ,  1. ,  3. ],\n",
              "       [-0. ,  1. , -0. ,  4. ],\n",
              "       [-0. , -0. ,  1. , -0.8]])"
            ]
          },
          "metadata": {},
          "execution_count": 9
        }
      ]
    },
    {
      "cell_type": "code",
      "source": [
        "# np.concatenate((sample_gausspar02, sample_gausspar02B), axis=1)\n",
        "#sample_gausspar02B.shape"
      ],
      "metadata": {
        "id": "GrIeCbDD0CHO"
      },
      "execution_count": null,
      "outputs": []
    },
    {
      "cell_type": "code",
      "source": [
        "np.linalg.solve(sample_gausspar02, sample_gausspar02B)"
      ],
      "metadata": {
        "colab": {
          "base_uri": "https://localhost:8080/"
        },
        "id": "rO9EbLZ6s8up",
        "outputId": "86b46ccd-35e4-4442-8406-9623a0e6444a"
      },
      "execution_count": null,
      "outputs": [
        {
          "output_type": "execute_result",
          "data": {
            "text/plain": [
              "array([-0.2,  4. , -0.8])"
            ]
          },
          "metadata": {},
          "execution_count": 12
        }
      ]
    },
    {
      "cell_type": "code",
      "source": [
        "def jordam_elim(matriz):\n",
        "\tmatriz = matriz.copy()\n",
        "\tn = matriz.shape[0]\n",
        "\n",
        "\tfor i in range(n-1, -1, -1):\n",
        "\n",
        "\t\tfor j in range(i-1, -1, -1):\n",
        "\t\t\talpha = matriz[j, i] / matriz[i, i]\n",
        "\n",
        "\t\t\tmatriz = op_msr(matriz, origin_rown_idx=i, dest_rown_idx=j, shape=n, coef=alpha)\n",
        "\treturn matriz\n",
        "\n",
        "\n",
        "def gj_elimination(x, b):\n",
        "\tif(np.linalg.det(x)):\n",
        "\n",
        "\t\tx_forward, resp_order = gauss(x, b)\n",
        "\n",
        "\t\tx_bacward = jordam_elim(x_forward)\n",
        "\n",
        "\t\tresp = backward_substitution(x_bacward)\n",
        "\n",
        "\t\treturn resp[resp_order]\n",
        "\n",
        "\telse: \n",
        "\t\tprint(\"Matriz singular!\")\n",
        "\t\treturn 0"
      ],
      "metadata": {
        "id": "6Kj1dORA4Q8o"
      },
      "execution_count": null,
      "outputs": []
    },
    {
      "cell_type": "code",
      "source": [
        "def switch_linhas(matriz, idx_i, idx_j): # os índices são linhas\n",
        "  linha_i = np.copy(matriz[idx_i])\n",
        "  linha_j = np.copy(matriz[idx_j])\n",
        "  matriz[idx_i] = linha_j\n",
        "  matriz[idx_j] = linha_i\n",
        "  return matriz\n",
        "\n",
        "def switch_cols(matriz, identidade, idx_i, idx_j): #os índices são colunas\n",
        "  col_i, id_i = np.copy(matriz[:, idx_i]), np.copy(identidade[:, idx_i])\n",
        "  col_j, id_j = np.copy(matriz[:, idx_j]), np.copy(identidade[:, idx_j])\n",
        "  matriz[:, idx_i] = col_j\n",
        "  matriz[:, idx_j] = col_i\n",
        "  identidade[:, idx_i] = id_j\n",
        "  identidade[:, idx_j] = id_i\n",
        "  return matriz, identidade\n",
        "\n",
        "def gauss_total(matriz, b):\n",
        "  if(np.linalg.det(matriz)):\n",
        "    output = np.copy(matriz)\n",
        "    matriz_indet = np.identity(matriz.shape[0])\n",
        "    idx_i, idx_j = 0, 0\n",
        "    for i in range(matriz.shape[0]):\n",
        "      # print(\"Etapa 01: pivotear o maior elemento para a posição certa\")\n",
        "      new_mat = matriz[idx_i:, idx_j:]\n",
        "      max_value = abs(new_mat).max() # pega o maior elemento da matriz\n",
        "      coords = np.argwhere(abs(matriz) == max_value)\n",
        "      # print(\"Maior elemento de \", new_mat, \" é o elemento \", max_value, \" na coord: \", coords)\n",
        "      # print(coords[0], idx_i, idx_j)\n",
        "      if(coords[0][0] != 0):\n",
        "        matriz = switch_linhas(matriz, coords[0][0], i)\n",
        "        # print(\"Switch da iteração \", i, \" matriz final: \\n\", matriz)\n",
        "      if(coords[0][1] != 0):\n",
        "        matriz, matriz_indet = switch_cols(matriz, matriz_indet, coords[0][1], i)\n",
        "      # print('Matriz após reposicionamento: \\n', matriz)\n",
        "      # print(\"Etapa 2: Eliminação\")\n",
        "      pivot = matriz[idx_i, idx_j]\n",
        "      eliminante = matriz[idx_i]*(1/pivot)\n",
        "      for k in range(i+1, matriz.shape[0]):\n",
        "        pivot_sub = matriz[k, i]\n",
        "        #if pivot_sub < 0 and pivot < 0:\n",
        "        #  eliminante = eliminante * -1\n",
        "        matriz[k] = matriz[k] + eliminante*-pivot_sub\n",
        "        # print(\"eliminação em k: \", k, \" pivot sub: \", pivot_sub, \" matriz[k]: \", matriz[k])\n",
        "      idx_i += 1\n",
        "      idx_j += 1\n",
        "    \n",
        "    print(\"Matriz final: \\n\", matriz, \" \\nidentidade: \\n\", matriz_indet)\n",
        "    return matriz, matriz_indet\n",
        "  else:\n",
        "    print(\"Matriz singular!\")\n",
        "    return 0"
      ],
      "metadata": {
        "id": "2PDCiZSKflWb"
      },
      "execution_count": null,
      "outputs": []
    },
    {
      "cell_type": "code",
      "source": [
        "matriz_joao = np.array([[2, 1, 0, 2],\n",
        "              [0, 1, 1, 3],\n",
        "              [0, 2, 0, 4],\n",
        "              [-4, 1, 0, 2]],\n",
        "             dtype='float')\n",
        "solu_joao = np.array([[5],\n",
        "              [6],\n",
        "              [6],\n",
        "              [-1]])\n",
        "mat_flavio = np.array([[2, 10, 8, 8, 6],\n",
        "              [1, 4, -2, 4, -1],\n",
        "              [0, 2, 3, 2, 1],\n",
        "              [3, 8, 3, 10, 9],\n",
        "              [1, 4, 1, 2, 1]],\n",
        "             dtype='float')\n",
        "\n",
        "solu_flavio = np.array([[52],\n",
        "              [14],\n",
        "              [12],\n",
        "              [51],\n",
        "              [15]])\n",
        "\n",
        "# gauss_total(A, b)\n",
        "\n",
        "#A_, b_ = eliminacao_gau(A, b)\n",
        "\n",
        "#back_substitution(A_, b_)"
      ],
      "metadata": {
        "id": "7n2o3DG71jDa"
      },
      "execution_count": null,
      "outputs": []
    },
    {
      "cell_type": "code",
      "source": [
        "sample_pitotal01 = np.array([\n",
        "    [17, -2, -3],\n",
        "    [-5, -21, -2],\n",
        "    [-5, -5, 22]\n",
        "])\n",
        "sample_pitotal01B = np.array([500, 200, 30])\n",
        "\n",
        "sample_pitotal02 = np.array([\n",
        "    [-2, 3, 1],\n",
        "    [2, -3, -2],\n",
        "    [4, 10, -6]\n",
        "])\n",
        "\n",
        "sample_pitotal03 = np.array([\n",
        "    [  0.,  1.,  2.,  3.,  4.],\n",
        "    [  7.,  8.,  9., 10.,  4.],\n",
        "    [ 14., 15., 16., 17.,  4.],\n",
        "    [  1., 20., 21., 22., 23.],\n",
        "    [ 27., 28.,  1., 20., 29.]\n",
        "])\n",
        "\n",
        "sample_pitotal04 = np.array([\n",
        "    [2, 4, 3],\n",
        "    [1, 2, -2],\n",
        "    [4, 4, 3]\n",
        "])\n",
        "sample_pitotal04B = np.array([1,11,3])\n",
        "\n",
        "#gauss_total(np.copy(teste_pitotal), teste_solu_pitotal)\n",
        "pitotal_out01, pitotal_id01 = gauss_total(np.copy(sample_pitotal01), sample_pitotal01B)\n",
        "#pitotal_out02, pitotal_id02 = gauss_total(np.copy(sample_pitotal02), sample_pitotal02B)"
      ],
      "metadata": {
        "colab": {
          "base_uri": "https://localhost:8080/"
        },
        "id": "IDfJDDbWnIwP",
        "outputId": "2876d2af-6c2e-40c6-8085-3b4991cf7829"
      },
      "execution_count": null,
      "outputs": [
        {
          "output_type": "stream",
          "name": "stdout",
          "text": [
            "Matriz final: \n",
            " [[ 22  -5  -5]\n",
            " [  0 -21  -5]\n",
            " [  0   0  16]]  \n",
            "identidade: \n",
            " [[0. 0. 1.]\n",
            " [0. 1. 0.]\n",
            " [1. 0. 0.]]\n"
          ]
        }
      ]
    },
    {
      "cell_type": "code",
      "source": [
        "gj_elimination(mat_flavio, solu_flavio)\n",
        "\n",
        "# np.linalg.det(matriz_joao)"
      ],
      "metadata": {
        "colab": {
          "base_uri": "https://localhost:8080/"
        },
        "id": "7h5drVf1WKA9",
        "outputId": "49091338-1030-4ac7-86e6-ce10c4fc1d56"
      },
      "execution_count": null,
      "outputs": [
        {
          "output_type": "execute_result",
          "data": {
            "text/plain": [
              "array([1., 2., 1., 2., 1.])"
            ]
          },
          "metadata": {},
          "execution_count": 63
        }
      ]
    },
    {
      "cell_type": "markdown",
      "source": [
        "Gauss-Jordan\n",
        "\n",
        "Saída esperada: matriz inversa"
      ],
      "metadata": {
        "id": "dNhQPyy4Atqz"
      }
    },
    {
      "cell_type": "code",
      "source": [
        "def inter(matrix, solucao):\n",
        "  matriz = matrix.copy()\n",
        "  b = solucao.copy()\n",
        "  linhas_dim, colunas_dim = matriz.shape\n",
        "  for j in range(linhas_dim-1):\n",
        "    for i in range(j+1, linhas_dim):\n",
        "      alpha = (-matriz[i, j])/(matriz[j,j])\n",
        "      matriz[i,j] = 0\n",
        "      for k in range(j+1, colunas_dim):\n",
        "        matriz[i, k] = matriz[i, k] + (alpha*matriz[j, k])\n",
        "      b[i] = b[i] + (alpha*b[j])\n",
        "  return (matriz, b)\n",
        "\n",
        "def inversa_GJD(matriz, b):\n",
        "  if(np.linalg.det(matriz[:, :matriz.shape[0]])):\n",
        "    # print(\"Calcular inversa por Gauss Jordan\")\n",
        "    matriz, b = gauss(matriz, b)\n",
        "    # print(\"matriz shape: \", matriz.shape)\n",
        "    # print(\"matriz pronta: \\n\", matriz)\n",
        "    for i in range(matriz.shape[0]-1, -1, -1):\n",
        "      # print(\"idx i: \", i, \" linha: \", matriz[i])\n",
        "      pivot = matriz[i,i]\n",
        "      if(pivot < 0):\n",
        "        matriz[i] = matriz[i]*-1\n",
        "        pivot *= -1\n",
        "      for k in range(0, i):\n",
        "        pivot_sub = matriz[k, i] # pega o elemento da mesma coluna do pivot\n",
        "        # print(\"idx k: \", k, \"pivot: \", pivot_sub, \" linha: \", matriz[k])\n",
        "        matriz[k] = matriz[k] + matriz[i]*(-pivot_sub)\n",
        "    return matriz\n",
        "  else:\n",
        "    print(\"matriz singular!\")\n",
        "    return 0\n",
        "\n",
        "\n",
        "#inv_joao = inversa_GJD(matriz_joao, solu_joao)\n",
        "#matriz_joao @ inv_joao\n",
        "\n",
        "inv_joao = inversa_GJD(mat_flavio, solu_flavio)\n",
        "# matriz_joao @ inv_joao\n",
        "inv_joao"
      ],
      "metadata": {
        "id": "Og3CnomvAyHV",
        "colab": {
          "base_uri": "https://localhost:8080/"
        },
        "outputId": "883d77ee-08de-41a2-f37f-f7cc1430dc75"
      },
      "execution_count": null,
      "outputs": [
        {
          "output_type": "execute_result",
          "data": {
            "text/plain": [
              "array([[1., 0., 0., 0., 0., 1.],\n",
              "       [0., 1., 0., 0., 0., 2.],\n",
              "       [0., 0., 1., 0., 0., 1.],\n",
              "       [0., 0., 0., 1., 0., 2.],\n",
              "       [0., 0., 0., 0., 1., 1.]])"
            ]
          },
          "metadata": {},
          "execution_count": 74
        }
      ]
    },
    {
      "cell_type": "code",
      "source": [
        "sample_inv01 = np.array([\n",
        "    [1,1,3],\n",
        "    [1,0,2],\n",
        "    [0,1,2]\n",
        "])\n",
        "sample_inv01B = np.array([1,1,1])\n",
        "\n",
        "sample_inv01gjd = inversa_GJD(np.concatenate((sample_inv01, np.identity(3)), axis=1), sample_inv01B)\n",
        "sample_inv01np = np.around(np.linalg.inv(sample_inv01), 5)\n",
        "print(\"minha:\\n\", sample_inv01gjd, \"\\npela numpy:\\n\", sample_inv01np)"
      ],
      "metadata": {
        "colab": {
          "base_uri": "https://localhost:8080/"
        },
        "id": "wgSECZDAXYTF",
        "outputId": "f7d4f29d-22a6-4282-ac19-694d1b2d9cf0"
      },
      "execution_count": null,
      "outputs": [
        {
          "output_type": "stream",
          "name": "stdout",
          "text": [
            "minha:\n",
            " [[ 1.  0.  0.  2. -1. -2.]\n",
            " [-0.  1. -0.  2. -2. -1.]\n",
            " [ 0.  0.  1. -1.  1.  1.]] \n",
            "pela numpy:\n",
            " [[ 2. -1. -2.]\n",
            " [ 2. -2. -1.]\n",
            " [-1.  1.  1.]]\n"
          ]
        }
      ]
    },
    {
      "cell_type": "markdown",
      "source": [
        "Algoritmo de Decomposição LU"
      ],
      "metadata": {
        "id": "63x-So7-00_v"
      }
    },
    {
      "cell_type": "code",
      "source": [
        "def decomp_lu02(matriz, b):\n",
        "  matriz = matriz.copy()\n",
        "  matriz = np.column_stack([matriz, b])\n",
        "\n",
        "  \n",
        "  n = matriz.shape[0]\n",
        "  u = np.eye(n)\n",
        "  l = np.eye(n)\n",
        "\n",
        "  for k in range(n):\n",
        "\n",
        "    if np.isclose(matriz[k, k], 0):\n",
        "      print(\"Pivot inválido!\")\n",
        "      return 0,0,0\n",
        "    \n",
        "    u[k, k] = matriz[k, k]\n",
        "    for i in range(k+1, n):\n",
        "      alpha = matriz[i, k] / u[k, k]\n",
        "      \n",
        "      l[i, k] = alpha\n",
        "      u[k, i] = matriz[k, i]\n",
        "      \n",
        "      matriz = op_msr(matriz, origin_rown_idx=k, dest_rown_idx=i, shape=n, coef=alpha)\n",
        "      \n",
        "  return l, u, matriz\n",
        "  \n",
        "def retro_lu(L, U, B):\n",
        "  # L*Y = B\n",
        "  # U*X = Y\n",
        "  #print(\"Efetuando os cálculos de X e B\")\n",
        "  # Y = retro_l2(L, B)\n",
        "  # X = retro_u2(U, Y)\n",
        "  cont = np.column_stack([U, B])\n",
        "  return backward_substitution(cont)\n",
        "\n",
        "  #return X, Y"
      ],
      "metadata": {
        "id": "rZ8Sxxss0yU8"
      },
      "execution_count": null,
      "outputs": []
    },
    {
      "cell_type": "code",
      "source": [
        "sample_creto = np.array([[ 465., -251., -297.],\n",
        "       [-251.,  136.,  160.],\n",
        "       [-297.,  160.,  190.]])"
      ],
      "metadata": {
        "id": "AhjhiiZDNOTr"
      },
      "execution_count": null,
      "outputs": []
    },
    {
      "cell_type": "code",
      "source": [
        "sample_LU01 = np.array([ \n",
        "    [2,2], \n",
        "    [4,9] \n",
        "  ])\n",
        "\n",
        "sample_LU02 = np.array([\n",
        "    [3,2,4],\n",
        "    [1,1,2],\n",
        "    [4,3,-2]\n",
        "  ])\n",
        "sample_LU02B = np.array([1,2,3])\n",
        "\n",
        "sample_LU03 = np.array([\n",
        "    [5., 1., 0., 2., 1.],\n",
        "    [0., 4., 0., 1., 2.],\n",
        "    [1., 1., 4., 1., 1.],\n",
        "    [0., 1., 2., 6., 0.],\n",
        "    [0., 0., 1., 2., 4.]\n",
        "])\n",
        "sample_LU03B = np.array([1,2,3,4,5])\n",
        "\n",
        "# L01, U01 = decom_lu(sample_LU01)\n",
        "# L02, U02 = decom_lu(sample_LU02)\n",
        "# L03, U03 = decom_lu(sample_LU03)\n",
        "L04, U04, R04 = decomp_lu02(sample_gausspar02, sample_gausspar02B)\n",
        "\n",
        "L04 @ U04"
      ],
      "metadata": {
        "id": "cnlcT42qc9yk",
        "colab": {
          "base_uri": "https://localhost:8080/"
        },
        "outputId": "66e28a4a-aef2-4f80-d81a-478c25939ddc"
      },
      "execution_count": null,
      "outputs": [
        {
          "output_type": "execute_result",
          "data": {
            "text/plain": [
              "array([[1., 1., 1.],\n",
              "       [4., 3., 4.],\n",
              "       [9., 3., 4.]])"
            ]
          },
          "metadata": {},
          "execution_count": 20
        }
      ]
    },
    {
      "cell_type": "code",
      "source": [
        "output_lu03 = retro_lu(L04.copy(), U04.copy(), R04[:, -1].copy())"
      ],
      "metadata": {
        "id": "Rjt-JXEChYrL"
      },
      "execution_count": null,
      "outputs": []
    },
    {
      "cell_type": "code",
      "source": [
        "sample_gausspar02B"
      ],
      "metadata": {
        "colab": {
          "base_uri": "https://localhost:8080/"
        },
        "id": "qMk-qJgc55tO",
        "outputId": "dd712592-b0a7-4857-f0fc-367f01fd7846"
      },
      "execution_count": null,
      "outputs": [
        {
          "output_type": "execute_result",
          "data": {
            "text/plain": [
              "array([3., 8., 7.])"
            ]
          },
          "metadata": {},
          "execution_count": 22
        }
      ]
    },
    {
      "cell_type": "code",
      "source": [
        "output_lu03"
      ],
      "metadata": {
        "colab": {
          "base_uri": "https://localhost:8080/"
        },
        "id": "a2oRJ_zL6fcO",
        "outputId": "aaad3f12-b961-4b85-b5f4-82d8fb82ff58"
      },
      "execution_count": null,
      "outputs": [
        {
          "output_type": "execute_result",
          "data": {
            "text/plain": [
              "array([-0.2,  4. , -0.8])"
            ]
          },
          "metadata": {},
          "execution_count": 23
        }
      ]
    },
    {
      "cell_type": "code",
      "source": [
        "sample_gausspar02 @ output_lu03"
      ],
      "metadata": {
        "colab": {
          "base_uri": "https://localhost:8080/"
        },
        "id": "6Y1fTVCt5ECv",
        "outputId": "d984fe66-9240-4dcb-8638-c8698998d2f8"
      },
      "execution_count": null,
      "outputs": [
        {
          "output_type": "execute_result",
          "data": {
            "text/plain": [
              "array([3., 8., 7.])"
            ]
          },
          "metadata": {},
          "execution_count": 24
        }
      ]
    },
    {
      "cell_type": "code",
      "source": [
        "pl, u = sp_lu(sample_LU03, permute_l=True) # pl, u\n",
        "pl"
      ],
      "metadata": {
        "colab": {
          "base_uri": "https://localhost:8080/"
        },
        "id": "T3TIopWXX-7b",
        "outputId": "09019fc4-3045-4394-9b36-db4a9375a6e9"
      },
      "execution_count": null,
      "outputs": [
        {
          "output_type": "execute_result",
          "data": {
            "text/plain": [
              "array([[1.        , 0.        , 0.        , 0.        , 0.        ],\n",
              "       [0.        , 1.        , 0.        , 0.        , 0.        ],\n",
              "       [0.2       , 0.2       , 1.        , 0.        , 0.        ],\n",
              "       [0.        , 0.25      , 0.5       , 1.        , 0.        ],\n",
              "       [0.        , 0.        , 0.25      , 0.34234234, 1.        ]])"
            ]
          },
          "metadata": {},
          "execution_count": 25
        }
      ]
    },
    {
      "cell_type": "code",
      "source": [
        "#back_substitution_v2(L03 @ U03, sample_LU03B)\n",
        "#retro_lu(L=L03, U=U03, B=sample_LU03B)"
      ],
      "metadata": {
        "colab": {
          "base_uri": "https://localhost:8080/",
          "height": 184
        },
        "id": "-3-dK3RglZDe",
        "outputId": "0ece5b86-466b-4b05-db78-5de0795478e5"
      },
      "execution_count": null,
      "outputs": [
        {
          "output_type": "error",
          "ename": "NameError",
          "evalue": "ignored",
          "traceback": [
            "\u001b[0;31m---------------------------------------------------------------------------\u001b[0m",
            "\u001b[0;31mNameError\u001b[0m                                 Traceback (most recent call last)",
            "\u001b[0;32m<ipython-input-26-3f307911712c>\u001b[0m in \u001b[0;36m<module>\u001b[0;34m\u001b[0m\n\u001b[1;32m      1\u001b[0m \u001b[0;31m#back_substitution_v2(L03 @ U03, sample_LU03B)\u001b[0m\u001b[0;34m\u001b[0m\u001b[0;34m\u001b[0m\u001b[0;34m\u001b[0m\u001b[0m\n\u001b[0;32m----> 2\u001b[0;31m \u001b[0mretro_lu\u001b[0m\u001b[0;34m(\u001b[0m\u001b[0mL\u001b[0m\u001b[0;34m=\u001b[0m\u001b[0mL03\u001b[0m\u001b[0;34m,\u001b[0m \u001b[0mU\u001b[0m\u001b[0;34m=\u001b[0m\u001b[0mU03\u001b[0m\u001b[0;34m,\u001b[0m \u001b[0mB\u001b[0m\u001b[0;34m=\u001b[0m\u001b[0msample_LU03B\u001b[0m\u001b[0;34m)\u001b[0m\u001b[0;34m\u001b[0m\u001b[0;34m\u001b[0m\u001b[0m\n\u001b[0m",
            "\u001b[0;31mNameError\u001b[0m: name 'L03' is not defined"
          ]
        }
      ]
    },
    {
      "cell_type": "code",
      "source": [
        "#np.linalg.solve(L03 @ U03, sample_LU03B)"
      ],
      "metadata": {
        "id": "UAfOw2ePkz4m"
      },
      "execution_count": null,
      "outputs": []
    },
    {
      "cell_type": "markdown",
      "source": [
        "RREF - Reduced Row Echelon Form"
      ],
      "metadata": {
        "id": "s7m-5yqoCYeD"
      }
    },
    {
      "cell_type": "code",
      "source": [
        "def switch(matriz, idx_i, idx_j):\n",
        "  linha_i = matriz[idx_i]\n",
        "  linha_j = matriz[idx_j]\n",
        "  matriz[idx_i] = linha_j\n",
        "  matriz[idx_j] = linha_i\n",
        "  return matriz\n",
        "\n",
        "def first_zero(vetor):\n",
        "  #print(\"CALCULANDO FIRST ZEROS\")\n",
        "  fz = -1\n",
        "  for i in range(len(vetor)):\n",
        "    if(vetor[i] == 0):\n",
        "      fz += 1\n",
        "    else:\n",
        "      #print(\"fim do cálculo \", fz)\n",
        "      return fz\n",
        "  #print(\"Cehgamos a um output: todas as cols são zeros \", fz)\n",
        "  return fz\n",
        "\n",
        "def ajusta_pivots(matriz):\n",
        "  # print(\"AJUSTA PIVOTS\")\n",
        "  #print(\"matriz recebida: \\n\", matriz)\n",
        "  num_linhas = matriz.shape[0]\n",
        "  first_zeros = [(first_zero(matriz[i]), i) for i in range(num_linhas)]\n",
        "  #print(\"Antes de ordenar: \", first_zeros)\n",
        "  first_zeros.sort(key=itemgetter(0))\n",
        "  #print( \"Depois de ordenar\", first_zeros)\n",
        "  new_matriz = np.zeros(matriz.shape)\n",
        "  for idx, el in enumerate(first_zeros):\n",
        "    # print(idx, el, new_matriz[idx], matriz[el[1]])\n",
        "    new_matriz[idx] = matriz[el[1]]\n",
        "  return new_matriz\n",
        "\n",
        "def RREF(matriz):\n",
        "  #rref_bool = True\n",
        "  linhas_num, colunas_num = matriz.shape\n",
        "  # print(\"shape da matriz: \", matriz.shape, linhas_num, colunas_num)\n",
        "  pivot_idx = 0\n",
        "  pivot_val = -1\n",
        "  # primeira metade do escalonamento\n",
        "  # zerar colunas abaixo dos pivots\n",
        "  #while(rref_bool):\n",
        "  #for i in range(0, colunas_num): # iteração sobre as colunas\n",
        "  for j in range(0, linhas_num): # iteração osbre as linhas\n",
        "    # print(\"######### \", j, \" #########\")\n",
        "    linha_dom = matriz[j, :]\n",
        "    # print(\"linha_dom\", linha_dom)\n",
        "    linha_new = linha_dom.copy()\n",
        "    #coluna_atual = matriz[:, i]\n",
        "    if pivot_idx < colunas_num:\n",
        "      pivot_val = linha_dom[pivot_idx] # !\n",
        "      # print(\"pivot_val: \", pivot_val, \"pivot_idx\", pivot_idx)\n",
        "\n",
        "      if pivot_val != 0:\n",
        "        linha_new = linha_new * (1/pivot_val)\n",
        "        matriz[j, :] = linha_new\n",
        "        # print(\"linha new origem do pivot: \", linha_new)\n",
        "        for k in range(j+1, linhas_num):\n",
        "          linha_sub = matriz[k, :]\n",
        "          pivot_sub = linha_sub[pivot_idx]\n",
        "          # print(\"linha sub \", linha_sub, ' idx ', k, ' pivot sub: ', pivot_sub)\n",
        "          if(pivot_sub != 0): # pivot sub é dif de zero\n",
        "            #x = ((pivot_sub)*-1)/(pivot_val)\n",
        "            x = linha_new*-pivot_sub\n",
        "            # print(\"x: \", x)\n",
        "            #linha_sub = linha_sub + (linha_new * x)\n",
        "            linha_sub = linha_sub + x\n",
        "            # print(\"pivot: \", 1/pivot_val, \" linha calculada: \", linha_sub)\n",
        "            matriz[k, :] = linha_sub\n",
        "      else:\n",
        "        print(\"pivot já é zero\")\n",
        "    pivot_idx += 1\n",
        "    pivot_val = -1\n",
        "    # ajusta matriz de acordo com os pivots zerados\n",
        "    matriz = ajusta_pivots(matriz)\n",
        "    # print(\"#########################\")\n",
        "  \n",
        "  # segunda metade do escalonamento\n",
        "  #armazena a coluna do pivot e a linha correspondente\n",
        "  print(\"SEGUNDA PARTE INICIANDO\")\n",
        "  print('Matriz recebida: \\n', matriz)\n",
        "  #first_zeros = [(-1, i) if (first_zero(matriz[i]) == colunas_num) else (first_zero(matriz[i])+1, i) for i in range(linhas_num)] \n",
        "  first_zeros = [(first_zero(matriz[i])+1, i) for i in range(linhas_num)] \n",
        "  # print(\"FIRST ZEROS DA SEGUNDA PARTE: \", first_zeros)\n",
        "  for m in range(linhas_num-1, -1, -1):\n",
        "    linha_dom = matriz[m]\n",
        "    # print(\"linha_dom: \", linha_dom, ' m: ', m)\n",
        "    coluna_pivot = first_zeros[m][0]\n",
        "    if(coluna_pivot != colunas_num):\n",
        "      for n in range(0, m):\n",
        "        # print(\"n: \", n, \"coluna_pivot\", coluna_pivot)\n",
        "        if(matriz[n, coluna_pivot] != 0):\n",
        "          linha_ajuste = matriz[n]\n",
        "          matriz[n] = linha_ajuste + (linha_dom * (linha_ajuste[coluna_pivot] * -1))\n",
        "    else:\n",
        "      print(\"pulando presume-se que a linha seja só de zeros\")\n",
        "  \n",
        "  print(\"*************************\")\n",
        "  print('Matriz final: \\n', matriz)\n",
        "  return matriz"
      ],
      "metadata": {
        "id": "Ot4zbpcCCZ62"
      },
      "execution_count": null,
      "outputs": []
    },
    {
      "cell_type": "code",
      "source": [
        "sample_creto = np.array([\n",
        "    [6, -12, -5, 16, -2],\n",
        "    [-3, 6, 3, -9, 1],\n",
        "    [-4, 8, 3, -10, 1]\n",
        "])\n",
        "\n",
        "sample_cretoB = np.array([-53, 29, 33])\n",
        "\n",
        "RREF(sample_creto)"
      ],
      "metadata": {
        "colab": {
          "base_uri": "https://localhost:8080/"
        },
        "id": "zYBLe0Id2pv4",
        "outputId": "6efbaf82-797a-4c1a-f770-db9bd38fa26f"
      },
      "execution_count": null,
      "outputs": [
        {
          "output_type": "stream",
          "name": "stdout",
          "text": [
            "pivot já é zero\n",
            "pivot já é zero\n",
            "SEGUNDA PARTE INICIANDO\n",
            "Matriz recebida: \n",
            " [[ 1. -2.  0.  2.  0.]\n",
            " [ 0.  0.  0. -1.  0.]\n",
            " [ 0.  0.  0.  0.  0.]]\n",
            "pulando presume-se que a linha seja só de zeros\n",
            "*************************\n",
            "Matriz final: \n",
            " [[ 1. -2.  0.  4.  0.]\n",
            " [ 0.  0.  0. -1.  0.]\n",
            " [ 0.  0.  0.  0.  0.]]\n"
          ]
        },
        {
          "output_type": "execute_result",
          "data": {
            "text/plain": [
              "array([[ 1., -2.,  0.,  4.,  0.],\n",
              "       [ 0.,  0.,  0., -1.,  0.],\n",
              "       [ 0.,  0.,  0.,  0.,  0.]])"
            ]
          },
          "metadata": {},
          "execution_count": 81
        }
      ]
    },
    {
      "cell_type": "code",
      "source": [
        "npsample_rref01 = np.array([\n",
        "    [1, 0, 1, 3], \n",
        "    [2, 3, 4, 7], \n",
        "    [-1, -3, -3, -4]\n",
        "  ])\n",
        "npsample_rref02 = np.array([\n",
        "    [2,-2,4,-2],\n",
        "    [2,1,10,7],\n",
        "    [-4,4,-8,4],\n",
        "    [4,-1,14,6]\n",
        "])\n",
        "npsample_rref03 = np.array([\n",
        "    [2, 4 ,5, 3],\n",
        "    [2, 3, 6, 3],\n",
        "    [1, 3, 2, 2],\n",
        "    [1, 5, 7, 8],\n",
        "    [0, 5, 4, 9]\n",
        "])\n",
        "npsample_rref04 = np.array([\n",
        "    [2,-2,4,-2],\n",
        "    [2,1,10,7],\n",
        "    [-4,4,-8,4],\n",
        "    [4,-1,14,6]\n",
        "])\n",
        "npsample_rref05 = np.array([\n",
        "    [1, 2, 1, 0],\n",
        "    [-1, 0, 3, 5],\n",
        "    [1, -2, 1, 1]\n",
        "], dtype='float')\n",
        "npsample_rref06 = np.array([\n",
        "    [1, 2],\n",
        "    [3, 4],\n",
        "    [5, 6]\n",
        "  ], dtype='float')\n",
        "\n",
        "RREF(npsample_rref04)"
      ],
      "metadata": {
        "colab": {
          "base_uri": "https://localhost:8080/"
        },
        "id": "Ru20PKjrICFz",
        "outputId": "d1ed52d1-b269-477c-f6d5-f5d1df114ba9"
      },
      "execution_count": null,
      "outputs": [
        {
          "output_type": "stream",
          "name": "stdout",
          "text": [
            "pivot já é zero\n",
            "pivot já é zero\n",
            "SEGUNDA PARTE INICIANDO\n",
            "Matriz recebida: \n",
            " [[ 1. -1.  2. -1.]\n",
            " [ 0.  1.  2.  3.]\n",
            " [ 0.  0.  0.  1.]\n",
            " [ 0.  0.  0.  0.]]\n",
            "pulando presume-se que a linha seja só de zeros\n",
            "*************************\n",
            "Matriz final: \n",
            " [[1. 0. 4. 0.]\n",
            " [0. 1. 2. 0.]\n",
            " [0. 0. 0. 1.]\n",
            " [0. 0. 0. 0.]]\n"
          ]
        },
        {
          "output_type": "execute_result",
          "data": {
            "text/plain": [
              "array([[1., 0., 4., 0.],\n",
              "       [0., 1., 2., 0.],\n",
              "       [0., 0., 0., 1.],\n",
              "       [0., 0., 0., 0.]])"
            ]
          },
          "metadata": {},
          "execution_count": 28
        }
      ]
    },
    {
      "cell_type": "code",
      "source": [
        "sysample_rref = sy.Matrix([\n",
        "    [1, 0, 1, 3], \n",
        "    [2, 3, 4, 7], \n",
        "    [-1, -3, -3, -4]\n",
        "  ]) # 3x4\n",
        "sysample_rref02 = sy.Matrix([\n",
        "    [2,-2,4,-2],\n",
        "    [2,1,10,7],\n",
        "    [-4,4,-8,4],\n",
        "    [4,-1,14,6]\n",
        "]) # 4x4\n",
        "sysample_rref03 = sy.Matrix([\n",
        "    [2, 4 ,5, 3],\n",
        "    [2, 3, 6, 3],\n",
        "    [1, 3, 2, 2],\n",
        "    [1, 5, 7, 8],\n",
        "    [0, 5, 4, 9]\n",
        "]) # 5x4\n",
        "sysample_rref04 = sy.Matrix([\n",
        "    [2,-2,4,-2],\n",
        "    [2,1,10,7],\n",
        "    [-4,4,-8,4],\n",
        "    [4,-1,14,6]\n",
        "])\n",
        "sysample_rref05 = sy.Matrix([\n",
        "    [1, 2, 1, 0],\n",
        "    [-1, 0, 3, 5],\n",
        "    [1, -2, 1, 1]\n",
        "])\n",
        "sysample_rref06 = sy.Matrix([\n",
        "    [1, 2],\n",
        "    [3, 4],\n",
        "    [5, 6]\n",
        "])\n",
        "\n",
        "sysample_out06 = sysample_rref06.rref()\n",
        "sysample_out05 = sysample_rref05.rref()\n",
        "sysample_out04 = sysample_rref04.rref()\n",
        "sysample_out03 = sysample_rref03.rref()\n",
        "sysample_out02 = sysample_rref02.rref()\n",
        "sysample_out = sysample_rref.rref()\n",
        "sysample_out04[0]"
      ],
      "metadata": {
        "colab": {
          "base_uri": "https://localhost:8080/",
          "height": 98
        },
        "id": "gVNElykNErr0",
        "outputId": "ef0f320b-75da-44aa-cc67-b9539e621bb8"
      },
      "execution_count": null,
      "outputs": [
        {
          "output_type": "execute_result",
          "data": {
            "text/plain": [
              "Matrix([\n",
              "[1, 0, 4, 0],\n",
              "[0, 1, 2, 0],\n",
              "[0, 0, 0, 1],\n",
              "[0, 0, 0, 0]])"
            ],
            "text/latex": "$\\displaystyle \\left[\\begin{matrix}1 & 0 & 4 & 0\\\\0 & 1 & 2 & 0\\\\0 & 0 & 0 & 1\\\\0 & 0 & 0 & 0\\end{matrix}\\right]$"
          },
          "metadata": {},
          "execution_count": 29
        }
      ]
    },
    {
      "cell_type": "markdown",
      "source": [
        "Decomposição de Cholesky"
      ],
      "metadata": {
        "id": "KKh1ZtAACesu"
      }
    },
    {
      "cell_type": "code",
      "source": [
        "def define_ii(G_, matriz, ix, iy):\n",
        "  print(\"Iniciando cálculo do elemento da diagonal: \", ix, iy)\n",
        "  somatorio = 0\n",
        "  for k in range(ix): # itera pelo num de cols\n",
        "    print(\"k: \", k)\n",
        "    somatorio += G_[ix, k]*G_[ix, k]\n",
        "  if(somatorio > matriz[ix, iy]):\n",
        "    print(\"Matriz não posi-definida, elemento revelado: \", matriz[ix, iy], \" coords: \", ix, iy)\n",
        "    return -1\n",
        "  \n",
        "  gii = np.sqrt(matriz[ix, iy] - somatorio)\n",
        "  print(\"Somatorio deu: \", somatorio, \" elemento da diagonal deu: \", gii, \" elemento A[i,i]: \", matriz[ix,iy])\n",
        "  return gii\n",
        "\n",
        "def define_ij(G_, matriz, ix, iy):\n",
        "  print(\"Iniciando cálculo do elemento de coord: \", ix, iy)\n",
        "  print(\"Calculando somatório\")\n",
        "  somatorio = 0\n",
        "  for k in range(iy):\n",
        "    somatorio += G_[ix, k] * G_[iy, k]\n",
        "  gij = (matriz[ix, iy] - somatorio)/G_[iy, iy]\n",
        "  return gij\n",
        "\n",
        "def define_i1(G_, matriz, g11):\n",
        "  for i in range(1, matriz.shape[0]): #iterando por todas as linhas\n",
        "    G_[i, 0] = matriz[i, 0]/g11\n",
        "  print(G_[:, 0])\n",
        "  return G_\n",
        "\n",
        "def decompo_cholesky(matriz):\n",
        "  G_ = np.zeros(matriz.shape) # criando amtriz resposta de mesmo shape\n",
        "  if(matriz[0,0] < 0):\n",
        "    print(\"Matriz não posi-definida, elemento revelado: \", matriz[0,0], \" coords: \", 0, 0)\n",
        "    return -1\n",
        "  print(\"Calculando g11...\")\n",
        "  g11 = np.sqrt(matriz[0,0])\n",
        "  G_[0,0] = g11\n",
        "  print(\"g11 equivale a \", matriz[0,0])\n",
        "  print(\"Definindo elementos da primeira coluna: \")\n",
        "  G_ = define_i1(G_, matriz, g11)\n",
        "  print(\"Iterando sobre os elementos da diagonal e definindo elementos das demais linhas/colunas...\")\n",
        "  iten = 0\n",
        "  for ix, iy in np.ndindex(matriz.shape):\n",
        "    if(iy == ix and iy != 0):\n",
        "      iten = define_ii(G_, matriz, ix, iy)\n",
        "      G_[ix, iy] = iten\n",
        "    elif(iy < ix and iy != 0):\n",
        "      iten = define_ij(G_, matriz, ix, iy)\n",
        "      G_[ix, iy] = iten\n",
        "    \n",
        "    if(iten == -1):\n",
        "      break\n",
        "  print(\"Cálculo de G concluído com sucesso! Retornando\")\n",
        "  return G_"
      ],
      "metadata": {
        "id": "OGu3CSxDCmKq"
      },
      "execution_count": null,
      "outputs": []
    },
    {
      "cell_type": "code",
      "source": [
        "G1 = decompo_cholesky(sample_creto)\n",
        "G1"
      ],
      "metadata": {
        "colab": {
          "base_uri": "https://localhost:8080/"
        },
        "id": "hQYG6nydN5_M",
        "outputId": "114ccd80-8dae-4731-af63-b9b05cf264dd"
      },
      "execution_count": null,
      "outputs": [
        {
          "output_type": "stream",
          "name": "stdout",
          "text": [
            "Calculando g11...\n",
            "g11 equivale a  465.0\n",
            "Definindo elementos da primeira coluna: \n",
            "[ 21.56385865 -11.63984628 -13.7730452 ]\n",
            "Iterando sobre os elementos da diagonal e definindo elementos das demais linhas/colunas...\n",
            "Iniciando cálculo do elemento da diagonal:  1 1\n",
            "k:  0\n",
            "Somatorio deu:  135.48602150537636  elemento da diagonal deu:  0.7169229349265116  elemento A[i,i]:  136.0\n",
            "Iniciando cálculo do elemento de coord:  2 1\n",
            "Calculando somatório\n",
            "Iniciando cálculo do elemento da diagonal:  2 2\n",
            "k:  0\n",
            "k:  1\n",
            "Somatorio deu:  189.8912133891214  elemento da diagonal deu:  0.329828153556682  elemento A[i,i]:  190.0\n",
            "Cálculo de G concluído com sucesso! Retornando\n"
          ]
        },
        {
          "output_type": "execute_result",
          "data": {
            "text/plain": [
              "array([[ 21.56385865,   0.        ,   0.        ],\n",
              "       [-11.63984628,   0.71692293,   0.        ],\n",
              "       [-13.7730452 ,  -0.4409526 ,   0.32982815]])"
            ]
          },
          "metadata": {},
          "execution_count": 89
        }
      ]
    },
    {
      "cell_type": "code",
      "source": [
        "G1 @ G1.T"
      ],
      "metadata": {
        "colab": {
          "base_uri": "https://localhost:8080/"
        },
        "id": "0vxNYr9TOHER",
        "outputId": "97dc16da-7fca-4123-d398-c80cd6ef359a"
      },
      "execution_count": null,
      "outputs": [
        {
          "output_type": "execute_result",
          "data": {
            "text/plain": [
              "array([[ 465., -251., -297.],\n",
              "       [-251.,  136.,  160.],\n",
              "       [-297.,  160.,  190.]])"
            ]
          },
          "metadata": {},
          "execution_count": 90
        }
      ]
    },
    {
      "cell_type": "code",
      "source": [
        "teste_cholesky = np.array([\n",
        "    [4, 12, -16],\n",
        "    [12, 37, -43],\n",
        "    [-16, -43, 98]\n",
        "])\n",
        "\n",
        "G = decompo_cholesky(teste_cholesky)\n",
        "Gt = np.transpose(G)\n",
        "print(G @ Gt)"
      ],
      "metadata": {
        "colab": {
          "base_uri": "https://localhost:8080/"
        },
        "id": "b-JArYHb9nhG",
        "outputId": "b0c015e2-cba6-4cde-d673-46a648dfa3e9"
      },
      "execution_count": null,
      "outputs": [
        {
          "output_type": "stream",
          "name": "stdout",
          "text": [
            "Calculando g11...\n",
            "g11 equivale a  4\n",
            "Definindo elementos da primeira coluna: \n",
            "[ 2.  6. -8.]\n",
            "Iterando sobre os elementos da diagonal e definindo elementos das demais linhas/colunas...\n",
            "Iniciando cálculo do elemento da diagonal:  1 1\n",
            "k:  0\n",
            "Somatorio deu:  36.0  elemento da diagonal deu:  1.0  elemento A[i,i]:  37\n",
            "Iniciando cálculo do elemento de coord:  2 1\n",
            "Calculando somatório\n",
            "Iniciando cálculo do elemento da diagonal:  2 2\n",
            "k:  0\n",
            "k:  1\n",
            "Somatorio deu:  89.0  elemento da diagonal deu:  3.0  elemento A[i,i]:  98\n",
            "Cálculo de G concluído com sucesso! Retornando\n",
            "[[  4.  12. -16.]\n",
            " [ 12.  37. -43.]\n",
            " [-16. -43.  98.]]\n"
          ]
        }
      ]
    },
    {
      "cell_type": "markdown",
      "source": [
        "Ortogonalização de Gram-Schmidt"
      ],
      "metadata": {
        "id": "eDoCToaKCsMp"
      }
    },
    {
      "cell_type": "code",
      "source": [
        "def orto_gram_schimidt(matriz): # cada coluna da matriz equivale a um vetor\n",
        "  print(\"Calculando a base ortogonal\")\n",
        "  conj_W = []\n",
        "  W1 = matriz[:, 0]\n",
        "  #conj_W = np.append(conj_W, W1)\n",
        "  conj_W.append(W1)\n",
        "  print(\"Base com primeiro elemento: \", conj_W)\n",
        "  for vetor_idx in range(1, matriz.shape[1]):\n",
        "    vetor = matriz[:, vetor_idx] # vetor atual para achar o seu w\n",
        "    print(\"vetor da rodada: \", vetor)\n",
        "    acumulado = vetor\n",
        "    for w_idx in range(vetor_idx):\n",
        "      wi = conj_W[w_idx]\n",
        "      print(\"wi da rodada: \", wi)\n",
        "      alpha = np.inner(vetor, wi)/np.inner(wi, wi)\n",
        "      print(\"Alpha calculado: \", alpha)\n",
        "      acumulado = acumulado - alpha * wi\n",
        "      #conj_W = np.append(conj_W, w2)\n",
        "    #w2 = vetor - acumulado\n",
        "    conj_W.append(acumulado)\n",
        "  return conj_W"
      ],
      "metadata": {
        "id": "rKzduj3BCwzK"
      },
      "execution_count": null,
      "outputs": []
    },
    {
      "cell_type": "code",
      "source": [
        "# orto_gram_schimidt()"
      ],
      "metadata": {
        "id": "eNx90e4aMW2l"
      },
      "execution_count": null,
      "outputs": []
    },
    {
      "cell_type": "code",
      "source": [
        "'''np.inner(\n",
        "    np.array([3, 4]), np.array([2, -1])\n",
        ")/np.inner(\n",
        "    np.array([2, -1]), np.array([2, -1])\n",
        ")'''\n",
        "\n",
        "teste_orto = np.transpose(np.array([\n",
        "    [2, -1], [3, 4]\n",
        "]))\n",
        "\n",
        "print(teste_orto[:, 0])\n",
        "\n",
        "#conj_W = orto_gram_schimidt(teste_orto)\n",
        "\n",
        "teste_ortor3 = np.transpose(np.array([\n",
        "    [1,0,1], [1,1,0],[0,0,1]\n",
        "]))\n",
        "\n",
        "conj_W = orto_gram_schimidt(teste_ortor3)\n",
        "\n",
        "print(conj_W)"
      ],
      "metadata": {
        "colab": {
          "base_uri": "https://localhost:8080/"
        },
        "id": "VmbR1e562K6Y",
        "outputId": "8065d66c-a5ea-4bc6-f2fd-1ea311e27d76"
      },
      "execution_count": null,
      "outputs": [
        {
          "output_type": "stream",
          "name": "stdout",
          "text": [
            "[ 2 -1]\n",
            "Calculando a base ortogonal\n",
            "Base com primeiro elemento:  [array([1, 0, 1])]\n",
            "vetor da rodada:  [1 1 0]\n",
            "wi da rodada:  [1 0 1]\n",
            "Alpha calculado:  0.5\n",
            "vetor da rodada:  [0 0 1]\n",
            "wi da rodada:  [1 0 1]\n",
            "Alpha calculado:  0.5\n",
            "wi da rodada:  [ 0.5  1.  -0.5]\n",
            "Alpha calculado:  -0.3333333333333333\n",
            "[array([1, 0, 1]), array([ 0.5,  1. , -0.5]), array([-0.33333333,  0.33333333,  0.33333333])]\n"
          ]
        }
      ]
    },
    {
      "cell_type": "markdown",
      "source": [
        "Cálculo da ortonormalização de gram-schimidt"
      ],
      "metadata": {
        "id": "DVDm4_NBI9bi"
      }
    },
    {
      "cell_type": "code",
      "source": [
        "def ortono_gram_schimidt(matriz): # calcula a ortonormal\n",
        "  v1 = matriz[:, 0]\n",
        "  w1 = v1/np.linalg.norm(v1) # !\n",
        "  # output: lista de wi\n",
        "  W_ = []\n",
        "  W_.append(w1)\n",
        "  # cada coluna da matriz equivale a um vetor\n",
        "  for vec_idx in range(1, matriz.shape[1]):\n",
        "    vi = matriz[:, vec_idx]\n",
        "    print(\"Vetor atual da iteração apra encontrar seu w: \", vec_idx)\n",
        "    somatorio = 0\n",
        "    for k in range(0, vec_idx):\n",
        "      wk = W_[k]\n",
        "      print(\"wk da rodada: \", wk)\n",
        "      alpha = np.inner(vi, wk)/np.inner(wk, wk) # ! # (vi*qk) <-> alpha\n",
        "      print(\"Alpha calculado: \", alpha)\n",
        "      somatorio = somatorio - alpha * wk\n",
        "    normalizado = wk/np.linalg.norm(wk) # !\n",
        "    W_.append(wk)\n",
        "  return W_"
      ],
      "metadata": {
        "id": "FdElS_F0Iiud"
      },
      "execution_count": null,
      "outputs": []
    },
    {
      "cell_type": "code",
      "source": [
        "conj_W_ = ortono_gram_schimidt(np.array(conj_W))\n",
        "print(conj_W_)"
      ],
      "metadata": {
        "colab": {
          "base_uri": "https://localhost:8080/"
        },
        "id": "Bm3sg_chT5P0",
        "outputId": "e7ae4c15-c95f-48cf-e4ec-cef1c5e48645"
      },
      "execution_count": null,
      "outputs": [
        {
          "output_type": "stream",
          "name": "stdout",
          "text": [
            "Vetor atual da iteração apra encontrar seu w:  1\n",
            "wk da rodada:  [ 0.85714286  0.42857143 -0.28571429]\n",
            "Alpha calculado:  0.33333333333333337\n",
            "Vetor atual da iteração apra encontrar seu w:  2\n",
            "wk da rodada:  [ 0.85714286  0.42857143 -0.28571429]\n",
            "Alpha calculado:  0.5476190476190477\n",
            "wk da rodada:  [ 0.85714286  0.42857143 -0.28571429]\n",
            "Alpha calculado:  0.5476190476190477\n",
            "[array([ 0.85714286,  0.42857143, -0.28571429]), array([ 0.85714286,  0.42857143, -0.28571429]), array([ 0.85714286,  0.42857143, -0.28571429])]\n"
          ]
        }
      ]
    },
    {
      "cell_type": "markdown",
      "source": [
        "Mínimos quadrados"
      ],
      "metadata": {
        "id": "s4jLDPAFC1JC"
      }
    },
    {
      "cell_type": "code",
      "source": [
        "def minimos_quads(matriz, B):\n",
        "  # transforma a matriz em At*A*x = At*B\n",
        "  At = np.transpose(matriz)\n",
        "  AtA = np.dot(At, matriz)\n",
        "  AtB = np.dot(At, B)\n",
        "  x = np.linalg.solve(AtA, AtB)\n",
        "  return x"
      ],
      "metadata": {
        "id": "x75MXTjKC3yj"
      },
      "execution_count": null,
      "outputs": []
    },
    {
      "cell_type": "code",
      "source": [
        "def test_linalg_solve():\n",
        "  m = np.array([\n",
        "      [6, 2],\n",
        "      [2, 4]\n",
        "  ])\n",
        "\n",
        "  b = np.array([4, 4])\n",
        "\n",
        "  x = np.linalg.solve(m, b)\n",
        "  print(x)\n",
        "\n",
        "def test_mim_quads():\n",
        "  matriz = np.array([\n",
        "      [-1, 1],\n",
        "      [0, 1],\n",
        "      [1, 1],\n",
        "      [2, 1]\n",
        "  ])\n",
        "  B = np.array([0,1,2,1])\n",
        "  out = minimos_quads(matriz, B)\n",
        "  print(out)\n",
        "test_mim_quads()"
      ],
      "metadata": {
        "colab": {
          "base_uri": "https://localhost:8080/"
        },
        "id": "vLdnXzG5N9XB",
        "outputId": "3afda308-a8d7-49ce-cd12-33e953980e40"
      },
      "execution_count": null,
      "outputs": [
        {
          "output_type": "stream",
          "name": "stdout",
          "text": [
            "[0.4 0.8]\n"
          ]
        }
      ]
    }
  ]
}